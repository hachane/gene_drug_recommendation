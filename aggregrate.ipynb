{
 "cells": [
  {
   "cell_type": "code",
   "execution_count": 1,
   "metadata": {},
   "outputs": [],
   "source": [
    "import numpy as np\n",
    "import pandas as pd\n",
    "import matplotlib as plt\n",
    "import seaborn as sb\n",
    "from sklearn.decomposition import PCA\n",
    "from sklearn import preprocessing"
   ]
  },
  {
   "cell_type": "code",
   "execution_count": 2,
   "metadata": {},
   "outputs": [
    {
     "name": "stdout",
     "output_type": "stream",
     "text": [
      "           0                   1       2\n",
      "0        CEU   CYP2B6*1/CYP2B6*1  32.320\n",
      "1        CEU  CYP2B6*1/CYP2B6*11   1.010\n",
      "2        CEU  CYP2B6*1/CYP2B6*15   1.010\n",
      "3        CEU   CYP2B6*1/CYP2B6*2   5.051\n",
      "4        CEU  CYP2B6*1/CYP2B6*22   1.010\n",
      "..       ...                 ...     ...\n",
      "447  KHV206g   CYP4F2*1/CYP4F2*1  62.140\n",
      "448  KHV206g   CYP4F2*1/CYP4F2*2   9.223\n",
      "449  KHV206g   CYP4F2*1/CYP4F2*3  20.870\n",
      "450  KHV206g   CYP4F2*2/CYP4F2*3   2.427\n",
      "451  KHV206g   CYP4F2*3/CYP4F2*3   3.398\n",
      "\n",
      "[452 rows x 3 columns]\n"
     ]
    }
   ],
   "source": [
    "df = pd.read_table(\"geno.frq.rerun.output.noquestion\", header=None)\n",
    "print(df)"
   ]
  },
  {
   "cell_type": "code",
   "execution_count": 3,
   "metadata": {},
   "outputs": [
    {
     "name": "stdout",
     "output_type": "stream",
     "text": [
      "      Ethnic             Alleles  Percentage\n",
      "0        CEU   CYP2B6*1/CYP2B6*1      32.320\n",
      "1        CEU  CYP2B6*1/CYP2B6*11       1.010\n",
      "2        CEU  CYP2B6*1/CYP2B6*15       1.010\n",
      "3        CEU   CYP2B6*1/CYP2B6*2       5.051\n",
      "4        CEU  CYP2B6*1/CYP2B6*22       1.010\n",
      "..       ...                 ...         ...\n",
      "447  KHV206g   CYP4F2*1/CYP4F2*1      62.140\n",
      "448  KHV206g   CYP4F2*1/CYP4F2*2       9.223\n",
      "449  KHV206g   CYP4F2*1/CYP4F2*3      20.870\n",
      "450  KHV206g   CYP4F2*2/CYP4F2*3       2.427\n",
      "451  KHV206g   CYP4F2*3/CYP4F2*3       3.398\n",
      "\n",
      "[452 rows x 3 columns]\n"
     ]
    }
   ],
   "source": [
    "df.columns = ['Ethnic', 'Alleles', 'Percentage']\n",
    "print(df)"
   ]
  },
  {
   "cell_type": "code",
   "execution_count": 4,
   "metadata": {},
   "outputs": [
    {
     "name": "stdout",
     "output_type": "stream",
     "text": [
      "      Ethnic             Alleles  Percentage    Gene Star Allele 1  \\\n",
      "0        CEU   CYP2B6*1/CYP2B6*1      32.320  CYP2B6             1   \n",
      "1        CEU  CYP2B6*1/CYP2B6*11       1.010  CYP2B6             1   \n",
      "2        CEU  CYP2B6*1/CYP2B6*15       1.010  CYP2B6             1   \n",
      "3        CEU   CYP2B6*1/CYP2B6*2       5.051  CYP2B6             1   \n",
      "4        CEU  CYP2B6*1/CYP2B6*22       1.010  CYP2B6             1   \n",
      "..       ...                 ...         ...     ...           ...   \n",
      "447  KHV206g   CYP4F2*1/CYP4F2*1      62.140  CYP4F2             1   \n",
      "448  KHV206g   CYP4F2*1/CYP4F2*2       9.223  CYP4F2             1   \n",
      "449  KHV206g   CYP4F2*1/CYP4F2*3      20.870  CYP4F2             1   \n",
      "450  KHV206g   CYP4F2*2/CYP4F2*3       2.427  CYP4F2             2   \n",
      "451  KHV206g   CYP4F2*3/CYP4F2*3       3.398  CYP4F2             3   \n",
      "\n",
      "    Star Allele 2  Percentage per allele  \n",
      "0               1                16.1600  \n",
      "1              11                 0.5050  \n",
      "2              15                 0.5050  \n",
      "3               2                 2.5255  \n",
      "4              22                 0.5050  \n",
      "..            ...                    ...  \n",
      "447             1                31.0700  \n",
      "448             2                 4.6115  \n",
      "449             3                10.4350  \n",
      "450             3                 1.2135  \n",
      "451             3                 1.6990  \n",
      "\n",
      "[452 rows x 7 columns]\n"
     ]
    }
   ],
   "source": [
    "split_columns = df['Alleles'].str.split('/', expand=True)\n",
    "\n",
    "# Separate the split columns into 'Allele', 'Star Allele 1', and 'Star Allele 2'\n",
    "df['Allele'] = split_columns[0].str.split('*', expand=True)[0]\n",
    "df['Star Allele 1'] = split_columns[0].str.split('*', expand=True)[1]\n",
    "df['Star Allele 2'] = split_columns[1].str.split('*', expand=True)[1]\n",
    "\n",
    "df['Percentage per allele'] = df['Percentage'] / 2\n",
    "# Rename columns\n",
    "df.columns = ['Ethnic', 'Alleles', 'Percentage', 'Gene', 'Star Allele 1', 'Star Allele 2','Percentage per allele']\n",
    "\n",
    "# Print the modified DataFrame\n",
    "print(df)\n",
    "df.to_excel('df.xlsx', index=False)"
   ]
  },
  {
   "cell_type": "code",
   "execution_count": 8,
   "metadata": {},
   "outputs": [
    {
     "name": "stdout",
     "output_type": "stream",
     "text": [
      "     0        1     2     3     4     5     6     7     8\n",
      "0  NaN   CYP2B6   KHV   CEU   CHB   CHS   JPT   SAS   YRI\n",
      "1  0.0        1  66.5  55.0  80.6  80.9  73.1  47.0  38.4\n",
      "2  1.0        2   5.8   4.0   2.4   3.3   2.9   4.1   3.7\n",
      "3  2.0        6  25.5  26.8  14.6  15.2  18.7  37.4  39.3\n",
      "0  NaN   CYP2C9   KHV   CEU   CHB   CHS   JPT   SAS   YRI\n",
      "1  0.0        1  94.4  76.3  94.7  93.8  97.6  82.6  77.8\n",
      "2  1.0        3   2.9   6.6   3.9   4.8   1.9  10.8   0.0\n",
      "0  NaN  CYP2C19   KHV   CEU   CHB   CHS   JPT   SAS   YRI\n",
      "1  0.0        1  64.6  63.1  59.2  59.0  60.1  47.9  49.1\n",
      "2  1.0        2  25.7  13.1  33.5  35.2  32.2  35.7  16.7\n",
      "3  2.0        3   1.5   0.0   4.4   4.8   7.2   1.2   0.0\n",
      "4  3.0       17   4.1  22.2   2.4   1.0   0.5  13.6  24.5\n",
      "0  NaN   CYP2D6   KHV   CEU   CHB   CHS   JPT   SAS   YRI\n",
      "1  0.0        1  24.8  39.9  21.4  22.9  50.0  40.5  26.4\n",
      "2  1.0        2  10.2  13.6  12.1   8.6  13.0  21.8  13.9\n",
      "3  2.0       10  51.5   1.5  56.8  59.5  36.1   5.0   4.6\n",
      "4  3.0       14   1.2   0.0   0.5   0.0   0.5   0.0   0.0\n",
      "5  4.0       17   2.2   0.0   0.0   0.0   0.0   0.0  24.1\n",
      "6  5.0       32   3.2  11.6   3.4   4.8   0.5  11.5   0.9\n",
      "0  NaN   CYP3A5   KHV   CEU   CHB   CHS   JPT   SAS   YRI\n",
      "1  0.0        1  31.1   4.0  31.1  26.7  25.5  33.2  51.4\n",
      "2  1.0        3  64.6  93.9  68.9  68.6  74.5  66.8  14.4\n",
      "0  NaN   CYP4F2   KHV   CEU   CHB   CHS   JPT   SAS   YRI\n",
      "1  0.0        1  77.2  75.3  78.2  80.0  76.9  58.1  54.6\n",
      "2  1.0        2   5.8  14.1   8.3   6.7   5.8  14.1   3.2\n",
      "3  2.0        3  15.0  10.6  13.6  13.3  17.3  27.0   1.4\n"
     ]
    }
   ],
   "source": [
    "cyp2b6 = pd.read_csv('frq/cyp2b6.csv', header=None)\n",
    "cyp2c9 = pd.read_csv('frq/cyp2c9.csv', header=None)\n",
    "cyp2c19 = pd.read_csv('frq/cyp2c19.csv', header=None)\n",
    "cyp2d6 = pd.read_csv('frq/cyp2d6.csv', header=None)\n",
    "cyp3a5 = pd.read_csv('frq/cyp3a5.csv', header=None)\n",
    "cyp4f2 = pd.read_csv('frq/cyp4f2.csv', header = None)\n",
    "\n",
    "final_table = pd.concat([cyp2b6, cyp2c9, cyp2c19, cyp2d6, cyp3a5,cyp4f2])\n",
    "final_table.to_excel('result.xlsx')\n",
    "print(final_table)"
   ]
  },
  {
   "cell_type": "code",
   "execution_count": 9,
   "metadata": {},
   "outputs": [
    {
     "name": "stdout",
     "output_type": "stream",
     "text": [
      "         0       1       2       3       4       5       6\n",
      "0      NaN     CEU     CHB     CHS     JPT     SAS     YRI\n",
      "1   CYP2B6  0.0061  0.0197  0.0193  0.0053  0.0228  0.0398\n",
      "0      NaN     CEU     CHB     CHS     JPT     SAS     YRI\n",
      "1   CYP2C9  0.0317  0.0003  0.0009  0.0036  0.0238  0.0275\n",
      "0      NaN     CEU     CHB     CHS     JPT     SAS     YRI\n",
      "1  CYP2C19  0.0228  0.0048  0.0068  0.0051  0.0202  0.0302\n",
      "0      NaN     CEU     CHB     CHS     JPT     SAS     YRI\n",
      "1   CYP2D6  0.0874  0.0019  0.0032  0.0341  0.0837   0.082\n",
      "0      NaN     CEU     CHB     CHS     JPT     SAS     YRI\n",
      "1   CYP3A5  0.1167   0.001  0.0019  0.0074  0.0005  0.1088\n",
      "0      NaN     CEU     CHB     CHS     JPT     SAS     YRI\n",
      "1   CYP4F2  0.0059  0.0006  0.0008  0.0004  0.0296  0.0315\n"
     ]
    }
   ],
   "source": [
    "gst_cyp2b6 = pd.read_csv('gst/gst_cyp2b6.csv', header=None)\n",
    "gst_cyp2c9 = pd.read_csv('gst/gst_cyp2c9.csv', header=None)\n",
    "gst_cyp2c19 = pd.read_csv('gst/gst_cyp2c19.csv', header=None)\n",
    "gst_cyp2d6 = pd.read_csv('gst/gst_cyp2d6.csv', header=None)\n",
    "gst_cyp3a5 = pd.read_csv('gst/gst_cyp3a5.csv', header=None)\n",
    "gst_cyp4f2 = pd.read_csv('gst/gst_cyp4f2.csv', header = None)\n",
    "\n",
    "gst = pd.concat([gst_cyp2b6, gst_cyp2c9, gst_cyp2c19, gst_cyp2d6, gst_cyp3a5,gst_cyp4f2])\n",
    "gst.to_excel('gst.xlsx')\n",
    "print(gst)"
   ]
  }
 ],
 "metadata": {
  "kernelspec": {
   "display_name": "Python 3",
   "language": "python",
   "name": "python3"
  },
  "language_info": {
   "codemirror_mode": {
    "name": "ipython",
    "version": 3
   },
   "file_extension": ".py",
   "mimetype": "text/x-python",
   "name": "python",
   "nbconvert_exporter": "python",
   "pygments_lexer": "ipython3",
   "version": "3.10.11"
  },
  "orig_nbformat": 4
 },
 "nbformat": 4,
 "nbformat_minor": 2
}
