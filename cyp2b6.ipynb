{
 "cells": [
  {
   "cell_type": "code",
   "execution_count": 2,
   "metadata": {},
   "outputs": [],
   "source": [
    "import numpy as np\n",
    "import pandas as pd\n",
    "from itertools import combinations_with_replacement\n",
    "from scipy.stats import chi2\n",
    "import scipy.stats as stats\n",
    "ds = [206,99,103,105,104,489,108]"
   ]
  },
  {
   "cell_type": "code",
   "execution_count": 3,
   "metadata": {},
   "outputs": [
    {
     "name": "stdout",
     "output_type": "stream",
     "text": [
      "{1, 2, 5, 6, 16, 17, 22}\n"
     ]
    }
   ],
   "source": [
    "df = pd.read_excel('df.xlsx')\n",
    "\n",
    "# Filter to just KHV rows\n",
    "khv = df[df['Ethnic'] == 'KHV206g'] \n",
    "\n",
    "# Filter to just CYP2B6 rows\n",
    "cyp2b6 = khv[khv['Gene'] == 'CYP2B6']\n",
    "\n",
    "# Get unique CYP2B6 alleles \n",
    "cyp2b6_alleles = set(cyp2b6['Star Allele 1'].unique()) | set(cyp2b6['Star Allele 2'].unique())\n",
    "\n",
    "print(cyp2b6_alleles)"
   ]
  },
  {
   "cell_type": "code",
   "execution_count": 4,
   "metadata": {},
   "outputs": [
    {
     "name": "stdout",
     "output_type": "stream",
     "text": [
      "   CYP2B6  KHV\n",
      "0       1  0.0\n",
      "1       2  0.0\n",
      "2       5  0.0\n",
      "3       6  0.0\n",
      "4      16  0.0\n",
      "5      17  0.0\n",
      "6      22  0.0\n",
      "[1, 2, 5, 6, 16, 17, 22]\n"
     ]
    }
   ],
   "source": [
    "cyp2b6_alleles = list(cyp2b6_alleles)\n",
    "cyp2b6table = pd.DataFrame(cyp2b6_alleles, columns=['CYP2B6'])\n",
    "cyp2b6table['KHV'] = 0.0\n",
    "print(cyp2b6table)\n",
    "print(cyp2b6_alleles)"
   ]
  },
  {
   "cell_type": "code",
   "execution_count": 5,
   "metadata": {},
   "outputs": [
    {
     "name": "stdout",
     "output_type": "stream",
     "text": [
      "      Ethnic              Alleles  Percentage    Gene  Star Allele 1  \\\n",
      "393  KHV206g    CYP2B6*1/CYP2B6*1     45.1500  CYP2B6              1   \n",
      "394  KHV206g    CYP2B6*1/CYP2B6*2      7.7670  CYP2B6              1   \n",
      "395  KHV206g   CYP2B6*1/CYP2B6*22      0.4854  CYP2B6              1   \n",
      "396  KHV206g    CYP2B6*1/CYP2B6*5      1.4560  CYP2B6              1   \n",
      "397  KHV206g    CYP2B6*1/CYP2B6*6     33.0100  CYP2B6              1   \n",
      "398  KHV206g  CYP2B6*16/CYP2B6*22      0.4854  CYP2B6             16   \n",
      "399  KHV206g    CYP2B6*2/CYP2B6*2      0.4854  CYP2B6              2   \n",
      "400  KHV206g    CYP2B6*2/CYP2B6*6      2.9130  CYP2B6              2   \n",
      "401  KHV206g   CYP2B6*6/CYP2B6*17      0.4854  CYP2B6              6   \n",
      "402  KHV206g    CYP2B6*6/CYP2B6*6      7.2820  CYP2B6              6   \n",
      "\n",
      "     Star Allele 2  Percentage per allele  \n",
      "393              1                22.5750  \n",
      "394              2                 3.8835  \n",
      "395             22                 0.2427  \n",
      "396              5                 0.7280  \n",
      "397              6                16.5050  \n",
      "398             22                 0.2427  \n",
      "399              2                 0.2427  \n",
      "400              6                 1.4565  \n",
      "401             17                 0.2427  \n",
      "402              6                 3.6410  \n",
      "[1, 2, 5, 6, 16, 17, 22]\n",
      "   CYP2B6      KHV\n",
      "0       1  66.5092\n",
      "1       2   5.8254\n",
      "3       6  25.4862\n"
     ]
    }
   ],
   "source": [
    "khv_cyp2b6 = df.query(\"Ethnic == 'KHV206g' & Gene == 'CYP2B6'\")\n",
    "\n",
    "print(khv_cyp2b6)\n",
    "print(cyp2b6_alleles)\n",
    "start = 0\n",
    "for allele in cyp2b6_alleles:\n",
    "  res = 0\n",
    "  for index, row in khv_cyp2b6.iterrows():\n",
    "    if allele == row['Star Allele 1']:\n",
    "      res += row['Percentage per allele']\n",
    "    if allele == row['Star Allele 2']:  \n",
    "      res += row['Percentage per allele']\n",
    "  cyp2b6table.at[start,'KHV'] = res\n",
    "  start += 1\n",
    "\n",
    "\n",
    "to_drop = cyp2b6table[cyp2b6table['KHV'] < 1]\n",
    "\n",
    "# Drop those rows by index\n",
    "cyp2b6table.drop(index=to_drop.index, inplace=True)\n",
    "# Divide by 100  \n",
    "print(cyp2b6table)"
   ]
  },
  {
   "cell_type": "code",
   "execution_count": 6,
   "metadata": {},
   "outputs": [
    {
     "name": "stdout",
     "output_type": "stream",
     "text": [
      "['CEU' 'CHB' 'CHS' 'JPT' 'SAS' 'YRI']\n",
      "   Ethnic             Alleles  Percentage    Gene  Star Allele 1  \\\n",
      "0     CEU   CYP2B6*1/CYP2B6*1     32.3200  CYP2B6              1   \n",
      "1     CEU  CYP2B6*1/CYP2B6*11      1.0100  CYP2B6              1   \n",
      "2     CEU  CYP2B6*1/CYP2B6*15      1.0100  CYP2B6              1   \n",
      "3     CEU   CYP2B6*1/CYP2B6*2      5.0510  CYP2B6              1   \n",
      "4     CEU  CYP2B6*1/CYP2B6*22      1.0100  CYP2B6              1   \n",
      "..    ...                 ...         ...     ...            ...   \n",
      "75    YRI   CYP2B6*2/CYP2B6*2      0.9259  CYP2B6              2   \n",
      "76    YRI   CYP2B6*2/CYP2B6*6      2.7780  CYP2B6              2   \n",
      "77    YRI  CYP2B6*6/CYP2B6*16      7.4070  CYP2B6              6   \n",
      "78    YRI  CYP2B6*6/CYP2B6*17      2.7780  CYP2B6              6   \n",
      "79    YRI   CYP2B6*6/CYP2B6*6     14.8100  CYP2B6              6   \n",
      "\n",
      "    Star Allele 2  Percentage per allele  \n",
      "0               1               16.16000  \n",
      "1              11                0.50500  \n",
      "2              15                0.50500  \n",
      "3               2                2.52550  \n",
      "4              22                0.50500  \n",
      "..            ...                    ...  \n",
      "75              2                0.46295  \n",
      "76              6                1.38900  \n",
      "77             16                3.70350  \n",
      "78             17                1.38900  \n",
      "79              6                7.40500  \n",
      "\n",
      "[73 rows x 7 columns]\n"
     ]
    }
   ],
   "source": [
    "temp = cyp2b6table['CYP2B6'].values.tolist()\n",
    "ethnics = df['Ethnic'].unique()\n",
    "ethnics =np.delete(ethnics, -1)\n",
    "value_to_delete = 'KHV'\n",
    "\n",
    "# Find index of value \n",
    "idx = np.where(ethnics == value_to_delete)[0][0]\n",
    "ethnics = np.delete(ethnics, idx)\n",
    "print(ethnics)\n",
    "cyp2b6_rows = df[df['Gene'] == 'CYP2B6']\n",
    "\n",
    "# Create bool series to check if allele in temp\n",
    "allele1_matches = cyp2b6_rows['Star Allele 1'].isin(temp)\n",
    "allele2_matches = cyp2b6_rows['Star Allele 2'].isin(temp)\n",
    "\n",
    "# Filter for rows where either allele matches \n",
    "mask = allele1_matches | allele2_matches\n",
    "cyp2b6_population = cyp2b6_rows[mask]\n",
    "cyp2b6_population = cyp2b6_population[cyp2b6_population['Ethnic'] != 'KHV206g']\n",
    "\n",
    "print(cyp2b6_population)#print(temp)"
   ]
  },
  {
   "cell_type": "code",
   "execution_count": 7,
   "metadata": {},
   "outputs": [
    {
     "name": "stdout",
     "output_type": "stream",
     "text": [
      "   CYP2B6      KHV  CEU  CHB  CHS  JPT  SAS  YRI\n",
      "0       1  66.5092  0.0  0.0  0.0  0.0  0.0  0.0\n",
      "1       2   5.8254  0.0  0.0  0.0  0.0  0.0  0.0\n",
      "2       6  25.4862  0.0  0.0  0.0  0.0  0.0  0.0\n"
     ]
    }
   ],
   "source": [
    "cyp2b6table_copy = cyp2b6table\n",
    "for ethnic in ethnics:\n",
    "        cyp2b6table[ethnic] = 0.0\n",
    "\n",
    "cyp2b6table = cyp2b6table.reset_index(drop=True)\n",
    "\n",
    "print(cyp2b6table)"
   ]
  },
  {
   "cell_type": "code",
   "execution_count": 8,
   "metadata": {},
   "outputs": [
    {
     "name": "stdout",
     "output_type": "stream",
     "text": [
      "   CYP2B6   KHV   CEU   CHB   CHS   JPT   SAS   YRI\n",
      "0       1  66.5  55.0  80.6  80.9  73.1  47.0  38.4\n",
      "1       2   5.8   4.0   2.4   3.3   2.9   4.1   3.7\n",
      "2       6  25.5  26.8  14.6  15.2  18.7  37.4  39.3\n"
     ]
    }
   ],
   "source": [
    "start = 0\n",
    "for ethnic in ethnics:\n",
    "    start = 0\n",
    "    for starallele in temp:\n",
    "        res = 0\n",
    "\n",
    "        for index, row in cyp2b6_population.iterrows():\n",
    "            if row['Ethnic'] == ethnic:\n",
    "                if starallele == row['Star Allele 1']:\n",
    "                    res += row['Percentage per allele']\n",
    "                if starallele == row['Star Allele 2']:  \n",
    "                    res += row['Percentage per allele']\n",
    "                cyp2b6table.at[start,ethnic] = res\n",
    "        #print(start)    \n",
    "        start += 1\n",
    "    cyp2b6table[ethnic] = cyp2b6table[ethnic].round(1)\n",
    "\n",
    "cyp2b6table['KHV'] = cyp2b6table['KHV'].round(1)\n",
    "cyp2b6table.to_csv('cyp2b6.csv')\n",
    "print(cyp2b6table)"
   ]
  },
  {
   "cell_type": "code",
   "execution_count": 9,
   "metadata": {},
   "outputs": [
    {
     "name": "stdout",
     "output_type": "stream",
     "text": [
      "           CEU     CHB     CHS     JPT     SAS     YRI\n",
      "CYP2B6  0.0061  0.0197  0.0193  0.0053  0.0228  0.0398\n"
     ]
    }
   ],
   "source": [
    "init = {'CEU': [0], 'CHB': [0], 'CHS': [0], 'JPT': [0], 'SAS': [0], 'YRI': [0]}\n",
    "gst = pd.DataFrame(init, dtype=float)\n",
    "\n",
    "h_s_k = 1.0\n",
    "for index,value in cyp2b6table.iterrows():\n",
    "    h_s_k -= (cyp2b6table.at[index,'KHV']/100) * (cyp2b6table.at[index,'KHV']/100)\n",
    "\n",
    "for idx in range(0,6):\n",
    "    value = 0\n",
    "    h_t = 1.0\n",
    "    h_s = 1.0\n",
    "    for id in range(0,3):\n",
    "        h_t -= ((cyp2b6table.iloc[id,idx + 2] + cyp2b6table.iloc[id,1])/200) * ((cyp2b6table.iloc[id,idx + 2] + cyp2b6table.iloc[id,1])/200)\n",
    "        h_s -= (cyp2b6table.iloc[id,idx + 2]/100) * (cyp2b6table.iloc[id,idx + 2]/100)\n",
    "    h_s = (h_s + h_s_k)/2\n",
    "    gst.iloc[0,idx] = (h_t - h_s)/h_t # You can modify the value here'''\n",
    "gst = gst.round(4)\n",
    "gst.index = ['CYP2B6']\n",
    "gst.to_csv('gst_cyp2b6.csv')\n",
    "print(gst)"
   ]
  },
  {
   "cell_type": "code",
   "execution_count": 10,
   "metadata": {},
   "outputs": [
    {
     "name": "stdout",
     "output_type": "stream",
     "text": [
      "['CYP2B6*1/CYP2B6*1', 'CYP2B6*1/CYP2B6*2', 'CYP2B6*1/CYP2B6*6', 'CYP2B6*2/CYP2B6*2', 'CYP2B6*2/CYP2B6*6', 'CYP2B6*6/CYP2B6*6']\n"
     ]
    }
   ],
   "source": [
    "test = list(cyp2b6table['CYP2B6'])\n",
    "test = ['CYP2B6*' + str(int(item)) for item in test]\n",
    "\n",
    "def generate_gene_combinations(alleles):\n",
    "    combinations = list(combinations_with_replacement(alleles, 2))\n",
    "    sorted_combinations = [\"/\".join(sorted(comb)) for comb in combinations]\n",
    "    return sorted_combinations\n",
    "\n",
    "gene_combinations = generate_gene_combinations(test)\n",
    "degrees_of_freedom = len(gene_combinations) - 1\n",
    "print(gene_combinations)"
   ]
  },
  {
   "cell_type": "code",
   "execution_count": 11,
   "metadata": {},
   "outputs": [
    {
     "name": "stdout",
     "output_type": "stream",
     "text": [
      "                Gene  KHV  CEU  CHB  CHS  JPT  SAS  YRI\n",
      "0  CYP2B6*1/CYP2B6*1  0.0  0.0  0.0  0.0  0.0  0.0  0.0\n",
      "1  CYP2B6*1/CYP2B6*2  0.0  0.0  0.0  0.0  0.0  0.0  0.0\n",
      "2  CYP2B6*1/CYP2B6*6  0.0  0.0  0.0  0.0  0.0  0.0  0.0\n",
      "3  CYP2B6*2/CYP2B6*2  0.0  0.0  0.0  0.0  0.0  0.0  0.0\n",
      "4  CYP2B6*2/CYP2B6*6  0.0  0.0  0.0  0.0  0.0  0.0  0.0\n",
      "5  CYP2B6*6/CYP2B6*6  0.0  0.0  0.0  0.0  0.0  0.0  0.0\n"
     ]
    }
   ],
   "source": [
    "observed = pd.DataFrame(gene_combinations, columns=['Gene'])\n",
    "new_columns = ['KHV', 'CEU', 'CHB', 'CHS', 'JPT', 'SAS', 'YRI']\n",
    "for column in new_columns:\n",
    "    observed[column] = 0.0\n",
    "\n",
    "print(observed)"
   ]
  },
  {
   "cell_type": "code",
   "execution_count": 12,
   "metadata": {},
   "outputs": [
    {
     "name": "stdout",
     "output_type": "stream",
     "text": [
      "                Gene   KHV   CEU   CHB   CHS   JPT    SAS   YRI\n",
      "0  CYP2B6*1/CYP2B6*1  96.0  32.0  67.0  69.0  56.0  108.0  14.0\n",
      "1  CYP2B6*1/CYP2B6*2  15.0   5.0   4.0   4.0   5.0   20.0   1.0\n",
      "2  CYP2B6*1/CYP2B6*6  75.0  30.0  24.0  27.0  29.0  170.0  39.0\n",
      "3  CYP2B6*2/CYP2B6*2   4.0   0.0   0.0   0.0   0.0    1.0   1.0\n",
      "4  CYP2B6*2/CYP2B6*6   8.0   2.0   0.0   3.0   0.0   14.0   3.0\n",
      "5  CYP2B6*6/CYP2B6*6   4.0   5.0   3.0   1.0   5.0   72.0  16.0\n"
     ]
    }
   ],
   "source": [
    "l = len(khv_cyp2b6)\n",
    "for x in range(0,l):\n",
    "    if khv_cyp2b6.iloc[x,1] in gene_combinations:\n",
    "        gene_to_update = khv_cyp2b6.iloc[x,1]\n",
    "        new_value = khv_cyp2b6.iloc[x,2]\n",
    "        observed.loc[observed['Gene'] == gene_to_update, 'KHV'] = new_value\n",
    "\n",
    "length = len(cyp2b6_population)\n",
    "for x in range(0,length):\n",
    "    if cyp2b6_population.iloc[x,1] in gene_combinations:\n",
    "        gene_to_update = cyp2b6_population.iloc[x,1]\n",
    "        pop_to_update = cyp2b6_population.iloc[x,0]\n",
    "        new_value = cyp2b6_population.iloc[x,2]\n",
    "        observed.loc[observed['Gene'] == gene_to_update, pop_to_update ] = new_value \n",
    "\n",
    "for x in range(0,7):\n",
    "    for y in range(0,len(gene_combinations)):\n",
    "        observed.iloc[y,x+1] = observed.iloc[y,x+1] * ((ds[x] * 1.0)/ 100)\n",
    "\n",
    "observed = observed.round(0)\n",
    "print(observed)"
   ]
  },
  {
   "cell_type": "code",
   "execution_count": 13,
   "metadata": {},
   "outputs": [
    {
     "name": "stdout",
     "output_type": "stream",
     "text": [
      "                Gene       KHV       CEU       CHB       CHS       JPT  \\\n",
      "0  CYP2B6*1/CYP2B6*1  0.442225  0.302500  0.649636  0.654481  0.534361   \n",
      "1  CYP2B6*1/CYP2B6*2  0.077140  0.044000  0.038688  0.053394  0.042398   \n",
      "2  CYP2B6*1/CYP2B6*6  0.339150  0.294800  0.235352  0.245936  0.273394   \n",
      "3  CYP2B6*2/CYP2B6*2  0.003364  0.001600  0.000576  0.001089  0.000841   \n",
      "4  CYP2B6*2/CYP2B6*6  0.029580  0.021440  0.007008  0.010032  0.010846   \n",
      "5  CYP2B6*6/CYP2B6*6  0.065025  0.071824  0.021316  0.023104  0.034969   \n",
      "\n",
      "        SAS       YRI  \n",
      "0  0.220900  0.147456  \n",
      "1  0.038540  0.028416  \n",
      "2  0.351560  0.301824  \n",
      "3  0.001681  0.001369  \n",
      "4  0.030668  0.029082  \n",
      "5  0.139876  0.154449  \n"
     ]
    }
   ],
   "source": [
    "hypo = pd.DataFrame(gene_combinations, columns=['Gene'])\n",
    "for column in new_columns:\n",
    "    hypo[column] = 0.0\n",
    "\n",
    "allele = cyp2b6table.iloc[:,0].tolist()\n",
    "\n",
    "for x in range(0,7):\n",
    "    temp = cyp2b6table.iloc[:,x + 1].tolist()\n",
    "    for allele1 in range(0,len(temp)):\n",
    "        for allele2 in range(allele1,len(temp)):\n",
    "            if allele1 == allele2:\n",
    "                new_value = (temp[allele1] / 100) * (temp[allele2] / 100)\n",
    "            elif allele1 != allele2:\n",
    "                new_value = 2 * (temp[allele1] / 100) * (temp[allele2] / 100)\n",
    "            gene = f\"CYP2B6*{int(allele[allele1])}/CYP2B6*{int(allele[allele2])}\"\n",
    "            row_index = hypo.index[hypo['Gene'] == gene].tolist()[0]\n",
    "            hypo.iloc[row_index, x+1] = new_value\n",
    "\n",
    "print(hypo)"
   ]
  },
  {
   "cell_type": "code",
   "execution_count": 14,
   "metadata": {},
   "outputs": [
    {
     "name": "stdout",
     "output_type": "stream",
     "text": [
      "                Gene   KHV   CEU   CHB   CHS   JPT    SAS   YRI\n",
      "0  CYP2B6*1/CYP2B6*1  91.0  30.0  67.0  69.0  56.0  108.0  16.0\n",
      "1  CYP2B6*1/CYP2B6*2  16.0   4.0   4.0   6.0   4.0   19.0   3.0\n",
      "2  CYP2B6*1/CYP2B6*6  70.0  29.0  24.0  26.0  28.0  172.0  33.0\n",
      "3  CYP2B6*2/CYP2B6*2   1.0   1.0   1.0   1.0   1.0    1.0   1.0\n",
      "4  CYP2B6*2/CYP2B6*6   6.0   2.0   1.0   1.0   1.0   15.0   3.0\n",
      "5  CYP2B6*6/CYP2B6*6  13.0   7.0   2.0   2.0   4.0   68.0  17.0\n"
     ]
    }
   ],
   "source": [
    "for x in range(0,7):\n",
    "    for y in range(0,len(gene_combinations)):\n",
    "        hypo.iloc[y,x+1] = hypo.iloc[y,x+1] * ((ds[x] * 1.0))\n",
    "        if hypo.iloc[y,x+1] < 1:\n",
    "            hypo.iloc[y,x+1] = 1\n",
    "hypo = hypo.round(0)\n",
    "print(hypo)"
   ]
  },
  {
   "cell_type": "code",
   "execution_count": 15,
   "metadata": {},
   "outputs": [
    {
     "name": "stdout",
     "output_type": "stream",
     "text": [
      "   KHV  CEU  CHB  CHS  JPT  SAS  YRI\n",
      "0  0.0  0.0  0.0  0.0  0.0  0.0  0.0\n",
      "           KHV     CEU     CHB     CHS     JPT     SAS     YRI\n",
      "CYP2B6  0.0053  0.8506  0.7765  0.2868  0.7711  0.9959  0.7411\n"
     ]
    }
   ],
   "source": [
    "hihi = {\"KHV\": [0.0], \"CEU\": [0.0], \"CHB\": [0.0], \"CHS\": [0.0], \"JPT\": [0.0], \"SAS\": [0.0], \"YRI\": [0.0]}\n",
    "chi_square = pd.DataFrame(hihi)\n",
    "print(chi_square)\n",
    "for x in range(0,7):\n",
    "    res = 0\n",
    "    for y in range(0,len(hypo)):\n",
    "        chi_square_value = ((hypo.iloc[y,x+1] - observed.iloc[y,x+1]) * (hypo.iloc[y,x+1] - observed.iloc[y,x+1])) / (hypo.iloc[y,x+1])\n",
    "        res += chi_square_value\n",
    "\n",
    "    p_value = 1 - stats.chi2.cdf(res, degrees_of_freedom)\n",
    "    chi_square.iloc[0,x] = p_value \n",
    "\n",
    "chi_square.index = ['CYP2B6']\n",
    "chi_square = chi_square.round(4)\n",
    "print(chi_square)"
   ]
  },
  {
   "cell_type": "code",
   "execution_count": 20,
   "metadata": {},
   "outputs": [
    {
     "name": "stdout",
     "output_type": "stream",
     "text": [
      "         KHV   CEU   CHB   CHS   JPT   SAS   YRI\n",
      "CYP2B6                                          \n",
      "1       66.5  55.0  80.6  80.9  73.1  47.0  38.4\n",
      "2        5.8   4.0   2.4   3.3   2.9   4.1   3.7\n",
      "6       25.5  26.8  14.6  15.2  18.7  37.4  39.3\n"
     ]
    }
   ],
   "source": [
    "print(cyp2b6table)"
   ]
  },
  {
   "cell_type": "code",
   "execution_count": 21,
   "metadata": {},
   "outputs": [
    {
     "name": "stdout",
     "output_type": "stream",
     "text": [
      "CYP2B6     1    2     6\n",
      "KHV     66.5  5.8  25.5\n",
      "CEU     55.0  4.0  26.8\n",
      "CHB     80.6  2.4  14.6\n",
      "CHS     80.9  3.3  15.2\n",
      "JPT     73.1  2.9  18.7\n",
      "SAS     47.0  4.1  37.4\n",
      "YRI     38.4  3.7  39.3\n"
     ]
    }
   ],
   "source": [
    "cyp2b6table = cyp2b6table.transpose()\n",
    "print(cyp2b6table)"
   ]
  },
  {
   "cell_type": "code",
   "execution_count": 22,
   "metadata": {},
   "outputs": [
    {
     "name": "stdout",
     "output_type": "stream",
     "text": [
      "Index(['KHV', 'CEU', 'CHB', 'CHS', 'JPT', 'SAS', 'YRI'], dtype='object')\n",
      "Index([1, 2, 6], dtype='int64', name='CYP2B6')\n"
     ]
    }
   ],
   "source": [
    "print(cyp2b6table.index)\n",
    "print(cyp2b6table.columns)"
   ]
  },
  {
   "cell_type": "code",
   "execution_count": 23,
   "metadata": {},
   "outputs": [
    {
     "data": {
      "text/html": [
       "<style>#sk-container-id-1 {color: black;}#sk-container-id-1 pre{padding: 0;}#sk-container-id-1 div.sk-toggleable {background-color: white;}#sk-container-id-1 label.sk-toggleable__label {cursor: pointer;display: block;width: 100%;margin-bottom: 0;padding: 0.3em;box-sizing: border-box;text-align: center;}#sk-container-id-1 label.sk-toggleable__label-arrow:before {content: \"▸\";float: left;margin-right: 0.25em;color: #696969;}#sk-container-id-1 label.sk-toggleable__label-arrow:hover:before {color: black;}#sk-container-id-1 div.sk-estimator:hover label.sk-toggleable__label-arrow:before {color: black;}#sk-container-id-1 div.sk-toggleable__content {max-height: 0;max-width: 0;overflow: hidden;text-align: left;background-color: #f0f8ff;}#sk-container-id-1 div.sk-toggleable__content pre {margin: 0.2em;color: black;border-radius: 0.25em;background-color: #f0f8ff;}#sk-container-id-1 input.sk-toggleable__control:checked~div.sk-toggleable__content {max-height: 200px;max-width: 100%;overflow: auto;}#sk-container-id-1 input.sk-toggleable__control:checked~label.sk-toggleable__label-arrow:before {content: \"▾\";}#sk-container-id-1 div.sk-estimator input.sk-toggleable__control:checked~label.sk-toggleable__label {background-color: #d4ebff;}#sk-container-id-1 div.sk-label input.sk-toggleable__control:checked~label.sk-toggleable__label {background-color: #d4ebff;}#sk-container-id-1 input.sk-hidden--visually {border: 0;clip: rect(1px 1px 1px 1px);clip: rect(1px, 1px, 1px, 1px);height: 1px;margin: -1px;overflow: hidden;padding: 0;position: absolute;width: 1px;}#sk-container-id-1 div.sk-estimator {font-family: monospace;background-color: #f0f8ff;border: 1px dotted black;border-radius: 0.25em;box-sizing: border-box;margin-bottom: 0.5em;}#sk-container-id-1 div.sk-estimator:hover {background-color: #d4ebff;}#sk-container-id-1 div.sk-parallel-item::after {content: \"\";width: 100%;border-bottom: 1px solid gray;flex-grow: 1;}#sk-container-id-1 div.sk-label:hover label.sk-toggleable__label {background-color: #d4ebff;}#sk-container-id-1 div.sk-serial::before {content: \"\";position: absolute;border-left: 1px solid gray;box-sizing: border-box;top: 0;bottom: 0;left: 50%;z-index: 0;}#sk-container-id-1 div.sk-serial {display: flex;flex-direction: column;align-items: center;background-color: white;padding-right: 0.2em;padding-left: 0.2em;position: relative;}#sk-container-id-1 div.sk-item {position: relative;z-index: 1;}#sk-container-id-1 div.sk-parallel {display: flex;align-items: stretch;justify-content: center;background-color: white;position: relative;}#sk-container-id-1 div.sk-item::before, #sk-container-id-1 div.sk-parallel-item::before {content: \"\";position: absolute;border-left: 1px solid gray;box-sizing: border-box;top: 0;bottom: 0;left: 50%;z-index: -1;}#sk-container-id-1 div.sk-parallel-item {display: flex;flex-direction: column;z-index: 1;position: relative;background-color: white;}#sk-container-id-1 div.sk-parallel-item:first-child::after {align-self: flex-end;width: 50%;}#sk-container-id-1 div.sk-parallel-item:last-child::after {align-self: flex-start;width: 50%;}#sk-container-id-1 div.sk-parallel-item:only-child::after {width: 0;}#sk-container-id-1 div.sk-dashed-wrapped {border: 1px dashed gray;margin: 0 0.4em 0.5em 0.4em;box-sizing: border-box;padding-bottom: 0.4em;background-color: white;}#sk-container-id-1 div.sk-label label {font-family: monospace;font-weight: bold;display: inline-block;line-height: 1.2em;}#sk-container-id-1 div.sk-label-container {text-align: center;}#sk-container-id-1 div.sk-container {/* jupyter's `normalize.less` sets `[hidden] { display: none; }` but bootstrap.min.css set `[hidden] { display: none !important; }` so we also need the `!important` here to be able to override the default hidden behavior on the sphinx rendered scikit-learn.org. See: https://github.com/scikit-learn/scikit-learn/issues/21755 */display: inline-block !important;position: relative;}#sk-container-id-1 div.sk-text-repr-fallback {display: none;}</style><div id=\"sk-container-id-1\" class=\"sk-top-container\"><div class=\"sk-text-repr-fallback\"><pre>PCA(n_components=2)</pre><b>In a Jupyter environment, please rerun this cell to show the HTML representation or trust the notebook. <br />On GitHub, the HTML representation is unable to render, please try loading this page with nbviewer.org.</b></div><div class=\"sk-container\" hidden><div class=\"sk-item\"><div class=\"sk-estimator sk-toggleable\"><input class=\"sk-toggleable__control sk-hidden--visually\" id=\"sk-estimator-id-1\" type=\"checkbox\" checked><label for=\"sk-estimator-id-1\" class=\"sk-toggleable__label sk-toggleable__label-arrow\">PCA</label><div class=\"sk-toggleable__content\"><pre>PCA(n_components=2)</pre></div></div></div></div></div>"
      ],
      "text/plain": [
       "PCA(n_components=2)"
      ]
     },
     "execution_count": 23,
     "metadata": {},
     "output_type": "execute_result"
    }
   ],
   "source": [
    "cyp2b6table_copy = cyp2b6table\n",
    "import numpy as np\n",
    "from sklearn.decomposition import PCA\n",
    "pca = PCA(n_components=2)\n",
    "pca.fit(cyp2b6table)\n",
    "PCA(n_components=2)"
   ]
  },
  {
   "cell_type": "code",
   "execution_count": 27,
   "metadata": {},
   "outputs": [
    {
     "data": {
      "image/png": "[encoded data removed]",
      "text/plain": [
       "<Figure size 640x480 with 1 Axes>"
      ]
     },
     "metadata": {},
     "output_type": "display_data"
    }
   ],
   "source": [
    "import matplotlib.pyplot as plt\n",
    "plt.figure()\n",
    "plt.scatter(pca.components_[0, :], pca.components_[1, :])\n",
    "plt.xlim([-2, 2])\n",
    "plt.ylim([-2, 1])\n",
    "plt.xlabel(\"PC1\")\n",
    "plt.ylabel(\"PC2\")\n",
    "plt.title(\"PCA of cyp2b6table\")\n",
    "plt.show()"
   ]
  },
  {
   "cell_type": "code",
   "execution_count": 26,
   "metadata": {},
   "outputs": [
    {
     "name": "stdout",
     "output_type": "stream",
     "text": [
      "[0.98971825 0.00832494]\n"
     ]
    }
   ],
   "source": [
    "print(pca.explained_variance_ratio_)"
   ]
  }
 ],
 "metadata": {
  "kernelspec": {
   "display_name": "Python 3",
   "language": "python",
   "name": "python3"
  },
  "language_info": {
   "codemirror_mode": {
    "name": "ipython",
    "version": 3
   },
   "file_extension": ".py",
   "mimetype": "text/x-python",
   "name": "python",
   "nbconvert_exporter": "python",
   "pygments_lexer": "ipython3",
   "version": "3.10.11"
  },
  "orig_nbformat": 4
 },
 "nbformat": 4,
 "nbformat_minor": 2
}
