{
 "cells": [
  {
   "cell_type": "code",
   "execution_count": 1,
   "metadata": {},
   "outputs": [],
   "source": [
    "import numpy as np\n",
    "import pandas as pd\n",
    "from itertools import combinations_with_replacement\n",
    "from scipy.stats import chi2\n",
    "import scipy.stats as stats\n",
    "ds = [206,99,103,105,104,489,108]"
   ]
  },
  {
   "cell_type": "code",
   "execution_count": 2,
   "metadata": {},
   "outputs": [
    {
     "name": "stdout",
     "output_type": "stream",
     "text": [
      "{1, 2, 3, 35, 13, 15, 17}\n"
     ]
    }
   ],
   "source": [
    "df = pd.read_excel('df.xlsx')\n",
    "\n",
    "# Filter to just KHV rows\n",
    "khv = df[df['Ethnic'] == 'KHV206g'] \n",
    "\n",
    "# Filter to just CYP2B6 rows\n",
    "cyp2c19 = khv[khv['Gene'] == 'CYP2C19']\n",
    "\n",
    "# Get unique CYP2B6 alleles \n",
    "cyp2c19_alleles = set(cyp2c19['Star Allele 1'].unique()) | set(cyp2c19['Star Allele 2'].unique())\n",
    "\n",
    "print(cyp2c19_alleles)"
   ]
  },
  {
   "cell_type": "code",
   "execution_count": 3,
   "metadata": {},
   "outputs": [
    {
     "name": "stdout",
     "output_type": "stream",
     "text": [
      "   CYP2C19  KHV\n",
      "0        1  0.0\n",
      "1        2  0.0\n",
      "2        3  0.0\n",
      "3       35  0.0\n",
      "4       13  0.0\n",
      "5       15  0.0\n",
      "6       17  0.0\n"
     ]
    }
   ],
   "source": [
    "cyp2c19_alleles = list(cyp2c19_alleles)\n",
    "cyp2c19table = pd.DataFrame(cyp2c19_alleles, columns=['CYP2C19'])\n",
    "cyp2c19table['KHV'] = 0.0\n",
    "print(cyp2c19table)"
   ]
  },
  {
   "cell_type": "code",
   "execution_count": 4,
   "metadata": {},
   "outputs": [
    {
     "name": "stdout",
     "output_type": "stream",
     "text": [
      "      Ethnic               Alleles  Percentage     Gene  Star Allele 1  \\\n",
      "413  KHV206g   CYP2C19*1/CYP2C19*1     40.7800  CYP2C19              1   \n",
      "414  KHV206g  CYP2C19*1/CYP2C19*13      0.4854  CYP2C19              1   \n",
      "415  KHV206g  CYP2C19*1/CYP2C19*15      0.4854  CYP2C19              1   \n",
      "416  KHV206g  CYP2C19*1/CYP2C19*17      7.7670  CYP2C19              1   \n",
      "417  KHV206g   CYP2C19*1/CYP2C19*2     35.9200  CYP2C19              1   \n",
      "418  KHV206g   CYP2C19*1/CYP2C19*3      1.9420  CYP2C19              1   \n",
      "419  KHV206g  CYP2C19*1/CYP2C19*35      0.9709  CYP2C19              1   \n",
      "420  KHV206g  CYP2C19*2/CYP2C19*17      0.4854  CYP2C19              2   \n",
      "421  KHV206g   CYP2C19*2/CYP2C19*2      6.7960  CYP2C19              2   \n",
      "422  KHV206g   CYP2C19*2/CYP2C19*3      0.9709  CYP2C19              2   \n",
      "423  KHV206g  CYP2C19*2/CYP2C19*35      0.4854  CYP2C19              2   \n",
      "\n",
      "     Star Allele 2  Percentage per allele  \n",
      "413              1               20.39000  \n",
      "414             13                0.24270  \n",
      "415             15                0.24270  \n",
      "416             17                3.88350  \n",
      "417              2               17.96000  \n",
      "418              3                0.97100  \n",
      "419             35                0.48545  \n",
      "420             17                0.24270  \n",
      "421              2                3.39800  \n",
      "422              3                0.48545  \n",
      "423             35                0.24270  \n",
      "[1, 2, 3, 35, 13, 15, 17]\n",
      "   CYP2C19       KHV\n",
      "0        1  64.56535\n",
      "1        2  25.72685\n",
      "2        3   1.45645\n",
      "6       17   4.12620\n"
     ]
    }
   ],
   "source": [
    "khv_cyp2c19 = df.query(\"Ethnic == 'KHV206g' & Gene == 'CYP2C19'\")\n",
    "\n",
    "print(khv_cyp2c19)\n",
    "print(cyp2c19_alleles)\n",
    "start = 0\n",
    "for allele in cyp2c19_alleles:\n",
    "  res = 0\n",
    "  for index, row in khv_cyp2c19.iterrows():\n",
    "    if allele == row['Star Allele 1']:\n",
    "      res += row['Percentage per allele']\n",
    "    if allele == row['Star Allele 2']:  \n",
    "      res += row['Percentage per allele']\n",
    "  cyp2c19table.at[start,'KHV'] = res\n",
    "  start += 1\n",
    "\n",
    "\n",
    "to_drop = cyp2c19table[cyp2c19table['KHV'] < 1]\n",
    "\n",
    "# Drop those rows by index\n",
    "cyp2c19table.drop(index=to_drop.index, inplace=True)\n",
    "# Divide by 100  \n",
    "print(cyp2c19table)"
   ]
  },
  {
   "cell_type": "code",
   "execution_count": 5,
   "metadata": {},
   "outputs": [
    {
     "name": "stdout",
     "output_type": "stream",
     "text": [
      "['CEU' 'CHB' 'CHS' 'JPT' 'SAS' 'YRI']\n",
      "    Ethnic                Alleles  Percentage     Gene  Star Allele 1  \\\n",
      "124    CEU    CYP2C19*1/CYP2C19*1     36.3600  CYP2C19              1   \n",
      "125    CEU   CYP2C19*1/CYP2C19*17     33.3300  CYP2C19              1   \n",
      "126    CEU    CYP2C19*1/CYP2C19*2     18.1800  CYP2C19              1   \n",
      "127    CEU    CYP2C19*1/CYP2C19*8      2.0200  CYP2C19              1   \n",
      "128    CEU  CYP2C19*17/CYP2C19*17      3.0300  CYP2C19             17   \n",
      "..     ...                    ...         ...      ...            ...   \n",
      "182    YRI  CYP2C19*17/CYP2C19*35      0.9259  CYP2C19             17   \n",
      "183    YRI   CYP2C19*2/CYP2C19*13      0.9259  CYP2C19              2   \n",
      "184    YRI   CYP2C19*2/CYP2C19*17      5.5560  CYP2C19              2   \n",
      "185    YRI    CYP2C19*2/CYP2C19*2      4.6300  CYP2C19              2   \n",
      "186    YRI    CYP2C19*2/CYP2C19*9      0.9259  CYP2C19              2   \n",
      "\n",
      "     Star Allele 2  Percentage per allele  \n",
      "124              1               18.18000  \n",
      "125             17               16.66500  \n",
      "126              2                9.09000  \n",
      "127              8                1.01000  \n",
      "128             17                1.51500  \n",
      "..             ...                    ...  \n",
      "182             35                0.46295  \n",
      "183             13                0.46295  \n",
      "184             17                2.77800  \n",
      "185              2                2.31500  \n",
      "186              9                0.46295  \n",
      "\n",
      "[63 rows x 7 columns]\n"
     ]
    }
   ],
   "source": [
    "temp = cyp2c19table['CYP2C19'].values.tolist()\n",
    "\n",
    "ethnics = df['Ethnic'].unique()\n",
    "ethnics =np.delete(ethnics, -1)\n",
    "value_to_delete = 'KHV'\n",
    "idx = np.where(ethnics == value_to_delete)[0][0]\n",
    "ethnics = np.delete(ethnics, idx)\n",
    "print(ethnics)\n",
    "\n",
    "\n",
    "cyp2c19_rows = df[df['Gene'] == 'CYP2C19']\n",
    "\n",
    "# Create bool series to check if allele in temp\n",
    "allele1_matches = cyp2c19_rows['Star Allele 1'].isin(temp)\n",
    "allele2_matches = cyp2c19_rows['Star Allele 2'].isin(temp)\n",
    "\n",
    "# Filter for rows where either allele matches \n",
    "mask = allele1_matches | allele2_matches\n",
    "cyp2c19_population = cyp2c19_rows[mask]\n",
    "cyp2c19_population = cyp2c19_population[cyp2c19_population['Ethnic'] != 'KHV206g']\n",
    "\n",
    "print(cyp2c19_population)#print(temp)"
   ]
  },
  {
   "cell_type": "code",
   "execution_count": 6,
   "metadata": {},
   "outputs": [
    {
     "name": "stdout",
     "output_type": "stream",
     "text": [
      "   CYP2C19       KHV  CEU  CHB  CHS  JPT  SAS  YRI\n",
      "0        1  64.56535  0.0  0.0  0.0  0.0  0.0  0.0\n",
      "1        2  25.72685  0.0  0.0  0.0  0.0  0.0  0.0\n",
      "2        3   1.45645  0.0  0.0  0.0  0.0  0.0  0.0\n",
      "3       17   4.12620  0.0  0.0  0.0  0.0  0.0  0.0\n"
     ]
    }
   ],
   "source": [
    "for ethnic in ethnics:\n",
    "        cyp2c19table[ethnic] = 0.0\n",
    "\n",
    "cyp2c19table = cyp2c19table.reset_index(drop=True)\n",
    "\n",
    "print(cyp2c19table)"
   ]
  },
  {
   "cell_type": "code",
   "execution_count": 7,
   "metadata": {},
   "outputs": [
    {
     "name": "stdout",
     "output_type": "stream",
     "text": [
      "   CYP2C19   KHV   CEU   CHB   CHS   JPT   SAS   YRI\n",
      "0        1  64.6  63.1  59.2  59.0  60.1  47.9  49.1\n",
      "1        2  25.7  13.1  33.5  35.2  32.2  35.7  16.7\n",
      "2        3   1.5   0.0   4.4   4.8   7.2   1.2   0.0\n",
      "3       17   4.1  22.2   2.4   1.0   0.5  13.6  24.5\n"
     ]
    }
   ],
   "source": [
    "start = 0\n",
    "for ethnic in ethnics:\n",
    "    start = 0\n",
    "    for starallele in temp:\n",
    "        res = 0\n",
    "\n",
    "        for index, row in cyp2c19_population.iterrows():\n",
    "            if row['Ethnic'] == ethnic:\n",
    "                if starallele == row['Star Allele 1']:\n",
    "                    res += row['Percentage per allele']\n",
    "                if starallele == row['Star Allele 2']:  \n",
    "                    res += row['Percentage per allele']\n",
    "                cyp2c19table.at[start,ethnic] = res\n",
    "        #print(start)    \n",
    "        start += 1\n",
    "    cyp2c19table[ethnic] = cyp2c19table[ethnic].round(1)\n",
    "\n",
    "cyp2c19table['KHV'] = cyp2c19table['KHV'].round(1)\n",
    "cyp2c19table.to_csv('frq/cyp2c19.csv')\n",
    "print(cyp2c19table)"
   ]
  },
  {
   "cell_type": "code",
   "execution_count": 8,
   "metadata": {},
   "outputs": [
    {
     "name": "stdout",
     "output_type": "stream",
     "text": [
      "            CEU     CHB     CHS     JPT     SAS     YRI\n",
      "CYP2C19  0.0228  0.0048  0.0068  0.0051  0.0202  0.0302\n"
     ]
    }
   ],
   "source": [
    "init = {'CEU': [0], 'CHB': [0], 'CHS': [0], 'JPT': [0], 'SAS': [0], 'YRI': [0]}\n",
    "gst = pd.DataFrame(init, dtype=float)\n",
    "\n",
    "h_s_k = 1.0\n",
    "for index,value in cyp2c19table.iterrows():\n",
    "    h_s_k -= (cyp2c19table.at[index,'KHV']/100) * (cyp2c19table.at[index,'KHV']/100)\n",
    "\n",
    "for idx in range(0,6):\n",
    "    value = 0\n",
    "    h_t = 1.0\n",
    "    h_s = 1.0\n",
    "    for id in range(0,4):\n",
    "        h_t -= ((cyp2c19table.iloc[id,idx + 2] + cyp2c19table.iloc[id,1])/200) * ((cyp2c19table.iloc[id,idx + 2] + cyp2c19table.iloc[id,1])/200)\n",
    "        h_s -= (cyp2c19table.iloc[id,idx + 2]/100) * (cyp2c19table.iloc[id,idx + 2]/100)\n",
    "    h_s = (h_s + h_s_k)/2\n",
    "    gst.iloc[0,idx] = (h_t - h_s)/h_t # You can modify the value here'''\n",
    "gst = gst.round(4)\n",
    "gst.index = ['CYP2C19']\n",
    "gst.to_csv('gst/gst_cyp2c19.csv')\n",
    "print(gst)"
   ]
  },
  {
   "cell_type": "code",
   "execution_count": 9,
   "metadata": {},
   "outputs": [
    {
     "name": "stdout",
     "output_type": "stream",
     "text": [
      "['CYP2C19*1/CYP2C19*1', 'CYP2C19*1/CYP2C19*2', 'CYP2C19*1/CYP2C19*3', 'CYP2C19*1/CYP2C19*17', 'CYP2C19*2/CYP2C19*2', 'CYP2C19*2/CYP2C19*3', 'CYP2C19*2/CYP2C19*17', 'CYP2C19*3/CYP2C19*3', 'CYP2C19*3/CYP2C19*17', 'CYP2C19*17/CYP2C19*17']\n",
      "['CYP2C19*1/CYP2C19*1', 'CYP2C19*1/CYP2C19*2', 'CYP2C19*1/CYP2C19*3', 'CYP2C19*1/CYP2C19*17', 'CYP2C19*2/CYP2C19*2', 'CYP2C19*2/CYP2C19*3', 'CYP2C19*2/CYP2C19*17', 'CYP2C19*3/CYP2C19*3', 'CYP2C19*3/CYP2C19*17', 'CYP2C19*17/CYP2C19*17']\n"
     ]
    }
   ],
   "source": [
    "test = list(cyp2c19table['CYP2C19'])\n",
    "test = ['CYP2C19*' + str(int(item)) for item in test]\n",
    "\n",
    "def generate_gene_combinations(alleles):\n",
    "    res = []\n",
    "    length = len(alleles)\n",
    "    for x in range(0,length):\n",
    "        for y in range(x,length):\n",
    "            lol = f'{alleles[x]}/{alleles[y]}'\n",
    "            res.append(lol)\n",
    "\n",
    "    return res\n",
    "\n",
    "print(generate_gene_combinations(test))\n",
    "gene_combinations = generate_gene_combinations(test)\n",
    "\n",
    "degrees_of_freedom = len(gene_combinations) - 1\n",
    "print(gene_combinations)"
   ]
  },
  {
   "cell_type": "code",
   "execution_count": 10,
   "metadata": {},
   "outputs": [
    {
     "name": "stdout",
     "output_type": "stream",
     "text": [
      "                    Gene  KHV  CEU  CHB  CHS  JPT  SAS  YRI\n",
      "0    CYP2C19*1/CYP2C19*1  0.0  0.0  0.0  0.0  0.0  0.0  0.0\n",
      "1    CYP2C19*1/CYP2C19*2  0.0  0.0  0.0  0.0  0.0  0.0  0.0\n",
      "2    CYP2C19*1/CYP2C19*3  0.0  0.0  0.0  0.0  0.0  0.0  0.0\n",
      "3   CYP2C19*1/CYP2C19*17  0.0  0.0  0.0  0.0  0.0  0.0  0.0\n",
      "4    CYP2C19*2/CYP2C19*2  0.0  0.0  0.0  0.0  0.0  0.0  0.0\n",
      "5    CYP2C19*2/CYP2C19*3  0.0  0.0  0.0  0.0  0.0  0.0  0.0\n",
      "6   CYP2C19*2/CYP2C19*17  0.0  0.0  0.0  0.0  0.0  0.0  0.0\n",
      "7    CYP2C19*3/CYP2C19*3  0.0  0.0  0.0  0.0  0.0  0.0  0.0\n",
      "8   CYP2C19*3/CYP2C19*17  0.0  0.0  0.0  0.0  0.0  0.0  0.0\n",
      "9  CYP2C19*17/CYP2C19*17  0.0  0.0  0.0  0.0  0.0  0.0  0.0\n"
     ]
    }
   ],
   "source": [
    "observed = pd.DataFrame(gene_combinations, columns=['Gene'])\n",
    "new_columns = ['KHV', 'CEU', 'CHB', 'CHS', 'JPT', 'SAS', 'YRI']\n",
    "for column in new_columns:\n",
    "    observed[column] = 0.0\n",
    "\n",
    "print(observed)"
   ]
  },
  {
   "cell_type": "code",
   "execution_count": 11,
   "metadata": {},
   "outputs": [
    {
     "name": "stdout",
     "output_type": "stream",
     "text": [
      "                    Gene   KHV   CEU   CHB   CHS   JPT    SAS   YRI\n",
      "0    CYP2C19*1/CYP2C19*1  85.0  36.0  34.0  31.0  39.0  113.0  22.0\n",
      "1    CYP2C19*1/CYP2C19*2  81.0  18.0  48.0  54.0  39.0  159.0  18.0\n",
      "2    CYP2C19*1/CYP2C19*3  12.0   0.0   4.0   6.0   8.0    4.0   0.0\n",
      "3   CYP2C19*1/CYP2C19*17   6.0  33.0   1.0   2.0   0.0   73.0  29.0\n",
      "4    CYP2C19*2/CYP2C19*2  15.0   2.0   7.0   8.0  11.0   74.0   5.0\n",
      "5    CYP2C19*2/CYP2C19*3   4.0   0.0   4.0   4.0   5.0    6.0   0.0\n",
      "6   CYP2C19*2/CYP2C19*17   2.0   4.0   3.0   0.0   1.0   31.0   6.0\n",
      "7    CYP2C19*3/CYP2C19*3   0.0   0.0   0.0   0.0   1.0    0.0   0.0\n",
      "8   CYP2C19*3/CYP2C19*17   0.0   0.0   1.0   0.0   0.0    2.0   0.0\n",
      "9  CYP2C19*17/CYP2C19*17   0.0   3.0   0.0   0.0   0.0   12.0   8.0\n"
     ]
    }
   ],
   "source": [
    "l = len(khv_cyp2c19)\n",
    "for x in range(0,l):\n",
    "    if khv_cyp2c19.iloc[x,1] in gene_combinations:\n",
    "        gene_to_update = khv_cyp2c19.iloc[x,1]\n",
    "        new_value = khv_cyp2c19.iloc[x,2]\n",
    "        observed.loc[observed['Gene'] == gene_to_update, 'KHV'] = new_value\n",
    "\n",
    "length = len(cyp2c19_population)\n",
    "for x in range(0,length):\n",
    "    if cyp2c19_population.iloc[x,1] in gene_combinations:\n",
    "        gene_to_update = cyp2c19_population.iloc[x,1]\n",
    "        pop_to_update = cyp2c19_population.iloc[x,0]\n",
    "        new_value = cyp2c19_population.iloc[x,2]\n",
    "        observed.loc[observed['Gene'] == gene_to_update, pop_to_update ] = new_value \n",
    "\n",
    "for x in range(0,7):\n",
    "    for y in range(0,len(gene_combinations)):\n",
    "        observed.iloc[y,x+1] = observed.iloc[y,x+1] * ((ds[x] * 1.0)/ 100)\n",
    "\n",
    "observed = observed.round(0)\n",
    "print(observed)"
   ]
  },
  {
   "cell_type": "code",
   "execution_count": 12,
   "metadata": {},
   "outputs": [
    {
     "name": "stdout",
     "output_type": "stream",
     "text": [
      "                    Gene       KHV       CEU       CHB       CHS       JPT  \\\n",
      "0    CYP2C19*1/CYP2C19*1  0.417316  0.398161  0.350464  0.348100  0.361201   \n",
      "1    CYP2C19*1/CYP2C19*2  0.332044  0.165322  0.396640  0.415360  0.387044   \n",
      "2    CYP2C19*1/CYP2C19*3  0.019380  0.000000  0.052096  0.056640  0.086544   \n",
      "3   CYP2C19*1/CYP2C19*17  0.052972  0.280164  0.028416  0.011800  0.006010   \n",
      "4    CYP2C19*2/CYP2C19*2  0.066049  0.017161  0.112225  0.123904  0.103684   \n",
      "5    CYP2C19*2/CYP2C19*3  0.007710  0.000000  0.029480  0.033792  0.046368   \n",
      "6   CYP2C19*2/CYP2C19*17  0.021074  0.058164  0.016080  0.007040  0.003220   \n",
      "7    CYP2C19*3/CYP2C19*3  0.000225  0.000000  0.001936  0.002304  0.005184   \n",
      "8   CYP2C19*3/CYP2C19*17  0.001230  0.000000  0.002112  0.000960  0.000720   \n",
      "9  CYP2C19*17/CYP2C19*17  0.001681  0.049284  0.000576  0.000100  0.000025   \n",
      "\n",
      "        SAS       YRI  \n",
      "0  0.229441  0.241081  \n",
      "1  0.342006  0.163994  \n",
      "2  0.011496  0.000000  \n",
      "3  0.130288  0.240590  \n",
      "4  0.127449  0.027889  \n",
      "5  0.008568  0.000000  \n",
      "6  0.097104  0.081830  \n",
      "7  0.000144  0.000000  \n",
      "8  0.003264  0.000000  \n",
      "9  0.018496  0.060025  \n"
     ]
    }
   ],
   "source": [
    "hypo = pd.DataFrame(gene_combinations, columns=['Gene'])\n",
    "for column in new_columns:\n",
    "    hypo[column] = 0.0\n",
    "\n",
    "allele = cyp2c19table.iloc[:,0].tolist()\n",
    "\n",
    "for x in range(0,7):\n",
    "    temp = cyp2c19table.iloc[:,x + 1].tolist()\n",
    "    for allele1 in range(0,len(temp)):\n",
    "        for allele2 in range(allele1,len(temp)):\n",
    "            if allele1 == allele2:\n",
    "                new_value = (temp[allele1] / 100) * (temp[allele2] / 100)\n",
    "            elif allele1 != allele2:\n",
    "                new_value = 2 * (temp[allele1] / 100) * (temp[allele2] / 100)\n",
    "            gene = f\"CYP2C19*{int(allele[allele1])}/CYP2C19*{int(allele[allele2])}\"\n",
    "            \n",
    "            row_index = hypo.index[hypo['Gene'] == gene].tolist()[0]\n",
    "            hypo.iloc[row_index, x+1] = new_value\n",
    "\n",
    "print(hypo)"
   ]
  },
  {
   "cell_type": "code",
   "execution_count": 13,
   "metadata": {},
   "outputs": [
    {
     "name": "stdout",
     "output_type": "stream",
     "text": [
      "                    Gene   KHV   CEU   CHB   CHS   JPT    SAS   YRI\n",
      "0    CYP2C19*1/CYP2C19*1  86.0  39.0  36.0  37.0  38.0  112.0  26.0\n",
      "1    CYP2C19*1/CYP2C19*2  68.0  16.0  41.0  44.0  40.0  167.0  18.0\n",
      "2    CYP2C19*1/CYP2C19*3   4.0   1.0   5.0   6.0   9.0    6.0   1.0\n",
      "3   CYP2C19*1/CYP2C19*17  11.0  28.0   3.0   1.0   1.0   64.0  26.0\n",
      "4    CYP2C19*2/CYP2C19*2  14.0   2.0  12.0  13.0  11.0   62.0   3.0\n",
      "5    CYP2C19*2/CYP2C19*3   2.0   1.0   3.0   4.0   5.0    4.0   1.0\n",
      "6   CYP2C19*2/CYP2C19*17   4.0   6.0   2.0   1.0   1.0   47.0   9.0\n",
      "7    CYP2C19*3/CYP2C19*3   1.0   1.0   1.0   1.0   1.0    1.0   1.0\n",
      "8   CYP2C19*3/CYP2C19*17   1.0   1.0   1.0   1.0   1.0    2.0   1.0\n",
      "9  CYP2C19*17/CYP2C19*17   1.0   5.0   1.0   1.0   1.0    9.0   6.0\n"
     ]
    }
   ],
   "source": [
    "for x in range(0,7):\n",
    "    for y in range(0,len(gene_combinations)):\n",
    "        hypo.iloc[y,x+1] = hypo.iloc[y,x+1] * ((ds[x] * 1.0))\n",
    "        if hypo.iloc[y,x+1] < 1:\n",
    "            hypo.iloc[y,x+1] = 1\n",
    "hypo = hypo.round(0)\n",
    "print(hypo)"
   ]
  },
  {
   "cell_type": "code",
   "execution_count": 14,
   "metadata": {},
   "outputs": [
    {
     "name": "stdout",
     "output_type": "stream",
     "text": [
      "   KHV  CEU  CHB  CHS  JPT  SAS  YRI\n",
      "0  0.0  0.0  0.0  0.0  0.0  0.0  0.0\n",
      "            KHV     CEU     CHB    CHS     JPT     SAS    YRI\n",
      "CYP2C19  0.0015  0.6537  0.5589  0.337  0.9575  0.1584  0.538\n"
     ]
    }
   ],
   "source": [
    "hihi = {\"KHV\": [0.0], \"CEU\": [0.0], \"CHB\": [0.0], \"CHS\": [0.0], \"JPT\": [0.0], \"SAS\": [0.0], \"YRI\": [0.0]}\n",
    "chi_square = pd.DataFrame(hihi)\n",
    "print(chi_square)\n",
    "for x in range(0,7):\n",
    "    res = 0\n",
    "    for y in range(0,len(hypo)):\n",
    "        chi_square_value = ((hypo.iloc[y,x+1] - observed.iloc[y,x+1]) * (hypo.iloc[y,x+1] - observed.iloc[y,x+1])) / (hypo.iloc[y,x+1])\n",
    "        res += chi_square_value\n",
    "\n",
    "    p_value = 1 - stats.chi2.cdf(res, degrees_of_freedom)\n",
    "    chi_square.iloc[0,x] = p_value \n",
    "\n",
    "chi_square = chi_square.round(4)\n",
    "\n",
    "chi_square.index = ['CYP2C19']\n",
    "print(chi_square)"
   ]
  },
  {
   "cell_type": "code",
   "execution_count": null,
   "metadata": {},
   "outputs": [],
   "source": [
    "print(cyp2c19table)\n",
    "def f(row):\n",
    "    return \"CYP2C19*\" + str(row)\n",
    "cyp2c19table[\"CYP2C19\"] = cyp2c19table[\"CYP2C19\"].apply(f)\n",
    "cyp2c19table.rename(columns={\"CYP2C19\": \"Gene\"}, inplace=True)\n",
    "cyp2c19table.to_excel(\"heatmap/cyp2c19table.xlsx\")"
   ]
  }
 ],
 "metadata": {
  "kernelspec": {
   "display_name": "Python 3",
   "language": "python",
   "name": "python3"
  },
  "language_info": {
   "codemirror_mode": {
    "name": "ipython",
    "version": 3
   },
   "file_extension": ".py",
   "mimetype": "text/x-python",
   "name": "python",
   "nbconvert_exporter": "python",
   "pygments_lexer": "ipython3",
   "version": "3.10.11"
  },
  "orig_nbformat": 4
 },
 "nbformat": 4,
 "nbformat_minor": 2
}
