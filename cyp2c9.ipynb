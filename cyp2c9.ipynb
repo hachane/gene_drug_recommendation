{
 "cells": [
  {
   "cell_type": "code",
   "execution_count": 1,
   "metadata": {},
   "outputs": [],
   "source": [
    "import numpy as np\n",
    "import pandas as pd\n",
    "from itertools import combinations_with_replacement\n",
    "from scipy.stats import chi2\n",
    "import scipy.stats as stats\n",
    "ds = [206,99,103,105,104,489,108]"
   ]
  },
  {
   "cell_type": "code",
   "execution_count": 2,
   "metadata": {},
   "outputs": [
    {
     "name": "stdout",
     "output_type": "stream",
     "text": [
      "{1, 2, 3, 5, 8, 9, 11, 13, 29}\n"
     ]
    }
   ],
   "source": [
    "df = pd.read_excel('df.xlsx')\n",
    "\n",
    "# Filter to just KHV rows\n",
    "khv = df[df['Ethnic'] == 'KHV206g'] \n",
    "\n",
    "# Filter to just CYP2B6 rows\n",
    "cyp2c9 = khv[khv['Gene'] == 'CYP2C9']\n",
    "\n",
    "# Get unique CYP2B6 alleles \n",
    "cyp2c9_alleles = set(cyp2c9['Star Allele 1'].unique()) | set(cyp2c9['Star Allele 2'].unique())\n",
    "\n",
    "print(cyp2c9_alleles)"
   ]
  },
  {
   "cell_type": "code",
   "execution_count": 3,
   "metadata": {},
   "outputs": [
    {
     "name": "stdout",
     "output_type": "stream",
     "text": [
      "   CYP2C9  KHV\n",
      "0       1  0.0\n",
      "1       2  0.0\n",
      "2       3  0.0\n",
      "3       5  0.0\n",
      "4       8  0.0\n",
      "5       9  0.0\n",
      "6      11  0.0\n",
      "7      13  0.0\n",
      "8      29  0.0\n",
      "[1, 2, 3, 5, 8, 9, 11, 13, 29]\n"
     ]
    }
   ],
   "source": [
    "cyp2c9_alleles = list(cyp2c9_alleles)\n",
    "cyp2c9table = pd.DataFrame(cyp2c9_alleles, columns=['CYP2C9'])\n",
    "cyp2c9table['KHV'] = 0.0\n",
    "print(cyp2c9table)\n",
    "print(cyp2c9_alleles)"
   ]
  },
  {
   "cell_type": "code",
   "execution_count": 4,
   "metadata": {},
   "outputs": [
    {
     "name": "stdout",
     "output_type": "stream",
     "text": [
      "      Ethnic             Alleles  Percentage    Gene  Star Allele 1  \\\n",
      "403  KHV206g   CYP2C9*1/CYP2C9*1     90.2900  CYP2C9              1   \n",
      "404  KHV206g  CYP2C9*1/CYP2C9*11      0.4854  CYP2C9              1   \n",
      "405  KHV206g  CYP2C9*1/CYP2C9*13      0.4854  CYP2C9              1   \n",
      "406  KHV206g   CYP2C9*1/CYP2C9*2      1.4560  CYP2C9              1   \n",
      "407  KHV206g   CYP2C9*1/CYP2C9*3      4.3690  CYP2C9              1   \n",
      "408  KHV206g   CYP2C9*1/CYP2C9*8      0.4854  CYP2C9              1   \n",
      "409  KHV206g   CYP2C9*1/CYP2C9*9      0.9709  CYP2C9              1   \n",
      "410  KHV206g  CYP2C9*3/CYP2C9*29      0.4854  CYP2C9              3   \n",
      "411  KHV206g   CYP2C9*3/CYP2C9*3      0.4854  CYP2C9              3   \n",
      "412  KHV206g   CYP2C9*5/CYP2C9*8      0.4854  CYP2C9              5   \n",
      "\n",
      "     Star Allele 2  Percentage per allele  \n",
      "403              1               45.14500  \n",
      "404             11                0.24270  \n",
      "405             13                0.24270  \n",
      "406              2                0.72800  \n",
      "407              3                2.18450  \n",
      "408              8                0.24270  \n",
      "409              9                0.48545  \n",
      "410             29                0.24270  \n",
      "411              3                0.24270  \n",
      "412              8                0.24270  \n",
      "[1, 2, 3, 5, 8, 9, 11, 13, 29]\n",
      "   CYP2C9       KHV\n",
      "0       1  94.41605\n",
      "2       3   2.91260\n"
     ]
    }
   ],
   "source": [
    "khv_cyp2c9 = df.query(\"Ethnic == 'KHV206g' & Gene == 'CYP2C9'\")\n",
    "\n",
    "print(khv_cyp2c9)\n",
    "print(cyp2c9_alleles)\n",
    "start = 0\n",
    "for allele in cyp2c9_alleles:\n",
    "  res = 0\n",
    "  for index, row in khv_cyp2c9.iterrows():\n",
    "    if allele == row['Star Allele 1']:\n",
    "      res += row['Percentage per allele']\n",
    "    if allele == row['Star Allele 2']:  \n",
    "      res += row['Percentage per allele']\n",
    "  cyp2c9table.at[start,'KHV'] = res\n",
    "  start += 1\n",
    "\n",
    "\n",
    "to_drop = cyp2c9table[cyp2c9table['KHV'] < 1]\n",
    "\n",
    "# Drop those rows by index\n",
    "cyp2c9table.drop(index=to_drop.index, inplace=True)\n",
    "# Divide by 100  \n",
    "print(cyp2c9table)"
   ]
  },
  {
   "cell_type": "code",
   "execution_count": 5,
   "metadata": {},
   "outputs": [
    {
     "name": "stdout",
     "output_type": "stream",
     "text": [
      "['CEU' 'CHB' 'CHS' 'JPT' 'SAS' 'YRI']\n",
      "    Ethnic             Alleles  Percentage    Gene  Star Allele 1  \\\n",
      "80     CEU   CYP2C9*1/CYP2C9*1     61.6200  CYP2C9              1   \n",
      "81     CEU  CYP2C9*1/CYP2C9*12      1.0100  CYP2C9              1   \n",
      "82     CEU   CYP2C9*1/CYP2C9*2     18.1800  CYP2C9              1   \n",
      "83     CEU   CYP2C9*1/CYP2C9*3     10.1000  CYP2C9              1   \n",
      "85     CEU   CYP2C9*2/CYP2C9*3      3.0300  CYP2C9              2   \n",
      "87     CHB   CYP2C9*1/CYP2C9*1     89.3200  CYP2C9              1   \n",
      "88     CHB  CYP2C9*1/CYP2C9*16      0.9709  CYP2C9              1   \n",
      "89     CHB  CYP2C9*1/CYP2C9*29      0.9709  CYP2C9              1   \n",
      "90     CHB   CYP2C9*1/CYP2C9*3      7.7670  CYP2C9              1   \n",
      "91     CHB  CYP2C9*1/CYP2C9*33      0.9709  CYP2C9              1   \n",
      "92     CHS   CYP2C9*1/CYP2C9*1     88.5700  CYP2C9              1   \n",
      "93     CHS   CYP2C9*1/CYP2C9*2      0.9524  CYP2C9              1   \n",
      "94     CHS  CYP2C9*1/CYP2C9*29      0.9524  CYP2C9              1   \n",
      "95     CHS   CYP2C9*1/CYP2C9*3      7.6190  CYP2C9              1   \n",
      "96     CHS  CYP2C9*1/CYP2C9*44      0.9524  CYP2C9              1   \n",
      "97     CHS   CYP2C9*3/CYP2C9*3      0.9524  CYP2C9              3   \n",
      "98     KHV   CYP2C9*1/CYP2C9*1     91.9200  CYP2C9              1   \n",
      "99     KHV  CYP2C9*1/CYP2C9*13      1.0100  CYP2C9              1   \n",
      "100    KHV   CYP2C9*1/CYP2C9*3      6.0610  CYP2C9              1   \n",
      "101    KHV  CYP2C9*3/CYP2C9*29      1.0100  CYP2C9              3   \n",
      "102    JPT   CYP2C9*1/CYP2C9*1     95.1900  CYP2C9              1   \n",
      "103    JPT  CYP2C9*1/CYP2C9*13      0.9615  CYP2C9              1   \n",
      "104    JPT   CYP2C9*1/CYP2C9*3      3.8460  CYP2C9              1   \n",
      "105    SAS   CYP2C9*1/CYP2C9*1     69.7300  CYP2C9              1   \n",
      "106    SAS  CYP2C9*1/CYP2C9*14      1.8400  CYP2C9              1   \n",
      "107    SAS   CYP2C9*1/CYP2C9*2      5.3170  CYP2C9              1   \n",
      "108    SAS   CYP2C9*1/CYP2C9*3     18.4000  CYP2C9              1   \n",
      "109    SAS   CYP2C9*1/CYP2C9*7      0.2045  CYP2C9              1   \n",
      "112    SAS   CYP2C9*2/CYP2C9*3      1.2270  CYP2C9              2   \n",
      "113    SAS  CYP2C9*3/CYP2C9*14      0.8180  CYP2C9              3   \n",
      "114    SAS   CYP2C9*3/CYP2C9*3      0.6135  CYP2C9              3   \n",
      "115    YRI   CYP2C9*1/CYP2C9*1     61.1100  CYP2C9              1   \n",
      "116    YRI  CYP2C9*1/CYP2C9*11      5.5560  CYP2C9              1   \n",
      "117    YRI   CYP2C9*1/CYP2C9*5      4.6300  CYP2C9              1   \n",
      "118    YRI   CYP2C9*1/CYP2C9*8      9.2590  CYP2C9              1   \n",
      "119    YRI   CYP2C9*1/CYP2C9*9     13.8900  CYP2C9              1   \n",
      "\n",
      "     Star Allele 2  Percentage per allele  \n",
      "80               1               30.81000  \n",
      "81              12                0.50500  \n",
      "82               2                9.09000  \n",
      "83               3                5.05000  \n",
      "85               3                1.51500  \n",
      "87               1               44.66000  \n",
      "88              16                0.48545  \n",
      "89              29                0.48545  \n",
      "90               3                3.88350  \n",
      "91              33                0.48545  \n",
      "92               1               44.28500  \n",
      "93               2                0.47620  \n",
      "94              29                0.47620  \n",
      "95               3                3.80950  \n",
      "96              44                0.47620  \n",
      "97               3                0.47620  \n",
      "98               1               45.96000  \n",
      "99              13                0.50500  \n",
      "100              3                3.03050  \n",
      "101             29                0.50500  \n",
      "102              1               47.59500  \n",
      "103             13                0.48075  \n",
      "104              3                1.92300  \n",
      "105              1               34.86500  \n",
      "106             14                0.92000  \n",
      "107              2                2.65850  \n",
      "108              3                9.20000  \n",
      "109              7                0.10225  \n",
      "112              3                0.61350  \n",
      "113             14                0.40900  \n",
      "114              3                0.30675  \n",
      "115              1               30.55500  \n",
      "116             11                2.77800  \n",
      "117              5                2.31500  \n",
      "118              8                4.62950  \n",
      "119              9                6.94500  \n"
     ]
    }
   ],
   "source": [
    "temp = cyp2c9table['CYP2C9'].values.tolist()\n",
    "ethnics = df['Ethnic'].unique()\n",
    "ethnics =np.delete(ethnics, -1)\n",
    "value_to_delete = 'KHV'\n",
    "\n",
    "# Find index of value \n",
    "idx = np.where(ethnics == value_to_delete)[0][0]\n",
    "ethnics = np.delete(ethnics, idx)\n",
    "print(ethnics)\n",
    "cyp2c9_rows = df[df['Gene'] == 'CYP2C9']\n",
    "\n",
    "# Create bool series to check if allele in temp\n",
    "allele1_matches = cyp2c9_rows['Star Allele 1'].isin(temp)\n",
    "allele2_matches = cyp2c9_rows['Star Allele 2'].isin(temp)\n",
    "\n",
    "# Filter for rows where either allele matches \n",
    "mask = allele1_matches | allele2_matches\n",
    "cyp2c9_population = cyp2c9_rows[mask]\n",
    "cyp2c9_population = cyp2c9_population[cyp2c9_population['Ethnic'] != 'KHV206g']\n",
    "\n",
    "print(cyp2c9_population)#print(temp)"
   ]
  },
  {
   "cell_type": "code",
   "execution_count": 6,
   "metadata": {},
   "outputs": [
    {
     "name": "stdout",
     "output_type": "stream",
     "text": [
      "   CYP2C9       KHV  CEU  CHB  CHS  JPT  SAS  YRI\n",
      "0       1  94.41605  0.0  0.0  0.0  0.0  0.0  0.0\n",
      "1       3   2.91260  0.0  0.0  0.0  0.0  0.0  0.0\n"
     ]
    }
   ],
   "source": [
    "for ethnic in ethnics:\n",
    "        cyp2c9table[ethnic] = 0.0\n",
    "\n",
    "cyp2c9table = cyp2c9table.reset_index(drop=True)\n",
    "\n",
    "print(cyp2c9table)"
   ]
  },
  {
   "cell_type": "code",
   "execution_count": 7,
   "metadata": {},
   "outputs": [
    {
     "name": "stdout",
     "output_type": "stream",
     "text": [
      "   CYP2C9   KHV   CEU   CHB   CHS   JPT   SAS   YRI\n",
      "0       1  94.4  76.3  94.7  93.8  97.6  82.6  77.8\n",
      "1       3   2.9   6.6   3.9   4.8   1.9  10.8   0.0\n"
     ]
    }
   ],
   "source": [
    "start = 0\n",
    "for ethnic in ethnics:\n",
    "    start = 0\n",
    "    for starallele in temp:\n",
    "        res = 0\n",
    "\n",
    "        for index, row in cyp2c9_population.iterrows():\n",
    "            if row['Ethnic'] == ethnic:\n",
    "                if starallele == row['Star Allele 1']:\n",
    "                    res += row['Percentage per allele']\n",
    "                if starallele == row['Star Allele 2']:  \n",
    "                    res += row['Percentage per allele']\n",
    "                cyp2c9table.at[start,ethnic] = res\n",
    "        #print(start)    \n",
    "        start += 1\n",
    "    cyp2c9table[ethnic] = cyp2c9table[ethnic].round(1)\n",
    "\n",
    "cyp2c9table['KHV'] = cyp2c9table['KHV'].round(1)\n",
    "cyp2c9table.to_csv('frq/cyp2c9.csv')\n",
    "print(cyp2c9table)"
   ]
  },
  {
   "cell_type": "code",
   "execution_count": 8,
   "metadata": {},
   "outputs": [
    {
     "name": "stdout",
     "output_type": "stream",
     "text": [
      "           CEU     CHB     CHS     JPT     SAS     YRI\n",
      "CYP2C9  0.0317  0.0003  0.0009  0.0036  0.0238  0.0275\n"
     ]
    }
   ],
   "source": [
    "init = {'CEU': [0], 'CHB': [0], 'CHS': [0], 'JPT': [0], 'SAS': [0], 'YRI': [0]}\n",
    "gst = pd.DataFrame(init, dtype=float)\n",
    "\n",
    "h_s_k = 1.0\n",
    "for index,value in cyp2c9table.iterrows():\n",
    "    h_s_k -= (cyp2c9table.at[index,'KHV']/100) * (cyp2c9table.at[index,'KHV']/100)\n",
    "\n",
    "for idx in range(0,6):\n",
    "    value = 0\n",
    "    h_t = 1.0\n",
    "    h_s = 1.0\n",
    "    for id in range(0,2):\n",
    "        h_t -= ((cyp2c9table.iloc[id,idx + 2] + cyp2c9table.iloc[id,1])/200) * ((cyp2c9table.iloc[id,idx + 2] + cyp2c9table.iloc[id,1])/200)\n",
    "        h_s -= (cyp2c9table.iloc[id,idx + 2]/100) * (cyp2c9table.iloc[id,idx + 2]/100)\n",
    "    h_s = (h_s + h_s_k)/2\n",
    "    gst.iloc[0,idx] = (h_t - h_s)/h_t # You can modify the value here'''\n",
    "gst = gst.round(4)\n",
    "gst.index = ['CYP2C9']\n",
    "gst.to_csv('gst/gst_cyp2c9.csv')\n",
    "print(gst)"
   ]
  },
  {
   "cell_type": "code",
   "execution_count": 9,
   "metadata": {},
   "outputs": [
    {
     "name": "stdout",
     "output_type": "stream",
     "text": [
      "['CYP2C9*1/CYP2C9*1', 'CYP2C9*1/CYP2C9*3', 'CYP2C9*3/CYP2C9*3']\n"
     ]
    }
   ],
   "source": [
    "test = list(cyp2c9table['CYP2C9'])\n",
    "test = ['CYP2C9*' + str(int(item)) for item in test]\n",
    "\n",
    "def generate_gene_combinations(alleles):\n",
    "    combinations = list(combinations_with_replacement(alleles, 2))\n",
    "    sorted_combinations = [\"/\".join(sorted(comb)) for comb in combinations]\n",
    "    return sorted_combinations\n",
    "\n",
    "gene_combinations = generate_gene_combinations(test)\n",
    "degrees_of_freedom = len(gene_combinations) - 1\n",
    "print(gene_combinations)"
   ]
  },
  {
   "cell_type": "code",
   "execution_count": 10,
   "metadata": {},
   "outputs": [
    {
     "name": "stdout",
     "output_type": "stream",
     "text": [
      "                Gene  KHV  CEU  CHB  CHS  JPT  SAS  YRI\n",
      "0  CYP2C9*1/CYP2C9*1  0.0  0.0  0.0  0.0  0.0  0.0  0.0\n",
      "1  CYP2C9*1/CYP2C9*3  0.0  0.0  0.0  0.0  0.0  0.0  0.0\n",
      "2  CYP2C9*3/CYP2C9*3  0.0  0.0  0.0  0.0  0.0  0.0  0.0\n"
     ]
    }
   ],
   "source": [
    "observed = pd.DataFrame(gene_combinations, columns=['Gene'])\n",
    "new_columns = ['KHV', 'CEU', 'CHB', 'CHS', 'JPT', 'SAS', 'YRI']\n",
    "for column in new_columns:\n",
    "    observed[column] = 0.0\n",
    "\n",
    "print(observed)"
   ]
  },
  {
   "cell_type": "code",
   "execution_count": 11,
   "metadata": {},
   "outputs": [
    {
     "name": "stdout",
     "output_type": "stream",
     "text": [
      "                Gene    KHV   CEU   CHB   CHS   JPT    SAS   YRI\n",
      "0  CYP2C9*1/CYP2C9*1  189.0  61.0  92.0  93.0  99.0  341.0  66.0\n",
      "1  CYP2C9*1/CYP2C9*3   12.0  10.0   8.0   8.0   4.0   90.0   0.0\n",
      "2  CYP2C9*3/CYP2C9*3    1.0   0.0   0.0   1.0   0.0    3.0   0.0\n"
     ]
    }
   ],
   "source": [
    "l = len(khv_cyp2c9)\n",
    "for x in range(0,l):\n",
    "    if khv_cyp2c9.iloc[x,1] in gene_combinations:\n",
    "        gene_to_update = khv_cyp2c9.iloc[x,1]\n",
    "        new_value = khv_cyp2c9.iloc[x,2]\n",
    "        observed.loc[observed['Gene'] == gene_to_update, 'KHV'] = new_value\n",
    "\n",
    "length = len(cyp2c9_population)\n",
    "for x in range(0,length):\n",
    "    if cyp2c9_population.iloc[x,1] in gene_combinations:\n",
    "        gene_to_update = cyp2c9_population.iloc[x,1]\n",
    "        pop_to_update = cyp2c9_population.iloc[x,0]\n",
    "        new_value = cyp2c9_population.iloc[x,2]\n",
    "        observed.loc[observed['Gene'] == gene_to_update, pop_to_update ] = new_value \n",
    "\n",
    "for x in range(0,7):\n",
    "    for y in range(0,len(gene_combinations)):\n",
    "        observed.iloc[y,x+1] = observed.iloc[y,x+1] * ((ds[x] * 1.0)/ 100)\n",
    "\n",
    "observed = observed.round(0)\n",
    "print(observed)"
   ]
  },
  {
   "cell_type": "code",
   "execution_count": 12,
   "metadata": {},
   "outputs": [
    {
     "name": "stdout",
     "output_type": "stream",
     "text": [
      "                Gene       KHV       CEU       CHB       CHS       JPT  \\\n",
      "0  CYP2C9*1/CYP2C9*1  0.891136  0.582169  0.896809  0.879844  0.952576   \n",
      "1  CYP2C9*1/CYP2C9*3  0.054752  0.100716  0.073866  0.090048  0.037088   \n",
      "2  CYP2C9*3/CYP2C9*3  0.000841  0.004356  0.001521  0.002304  0.000361   \n",
      "\n",
      "        SAS       YRI  \n",
      "0  0.682276  0.605284  \n",
      "1  0.178416  0.000000  \n",
      "2  0.011664  0.000000  \n"
     ]
    }
   ],
   "source": [
    "hypo = pd.DataFrame(gene_combinations, columns=['Gene'])\n",
    "for column in new_columns:\n",
    "    hypo[column] = 0.0\n",
    "\n",
    "allele = cyp2c9table.iloc[:,0].tolist()\n",
    "\n",
    "for x in range(0,7):\n",
    "    temp = cyp2c9table.iloc[:,x + 1].tolist()\n",
    "    for allele1 in range(0,len(temp)):\n",
    "        for allele2 in range(allele1,len(temp)):\n",
    "            if allele1 == allele2:\n",
    "                new_value = (temp[allele1] / 100) * (temp[allele2] / 100)\n",
    "            elif allele1 != allele2:\n",
    "                new_value = 2 * (temp[allele1] / 100) * (temp[allele2] / 100)\n",
    "            gene = f\"CYP2C9*{int(allele[allele1])}/CYP2C9*{int(allele[allele2])}\"\n",
    "            row_index = hypo.index[hypo['Gene'] == gene].tolist()[0]\n",
    "            hypo.iloc[row_index, x+1] = new_value\n",
    "\n",
    "print(hypo)"
   ]
  },
  {
   "cell_type": "code",
   "execution_count": 13,
   "metadata": {},
   "outputs": [
    {
     "name": "stdout",
     "output_type": "stream",
     "text": [
      "                Gene    KHV   CEU   CHB   CHS   JPT    SAS   YRI\n",
      "0  CYP2C9*1/CYP2C9*1  184.0  58.0  92.0  92.0  99.0  334.0  65.0\n",
      "1  CYP2C9*1/CYP2C9*3   11.0  10.0   8.0   9.0   4.0   87.0   1.0\n",
      "2  CYP2C9*3/CYP2C9*3    1.0   1.0   1.0   1.0   1.0    6.0   1.0\n"
     ]
    }
   ],
   "source": [
    "for x in range(0,7):\n",
    "    for y in range(0,len(gene_combinations)):\n",
    "        hypo.iloc[y,x+1] = hypo.iloc[y,x+1] * ((ds[x] * 1.0))\n",
    "        if hypo.iloc[y,x+1] < 1:\n",
    "            hypo.iloc[y,x+1] = 1\n",
    "hypo = hypo.round(0)\n",
    "print(hypo)"
   ]
  },
  {
   "cell_type": "code",
   "execution_count": 14,
   "metadata": {},
   "outputs": [
    {
     "name": "stdout",
     "output_type": "stream",
     "text": [
      "   KHV  CEU  CHB  CHS  JPT  SAS  YRI\n",
      "0  0.0  0.0  0.0  0.0  0.0  0.0  0.0\n",
      "           KHV     CEU     CHB     CHS     JPT     SAS     YRI\n",
      "CYP2C9  0.8928  0.5613  0.6065  0.9408  0.6065  0.4168  0.3651\n"
     ]
    }
   ],
   "source": [
    "hihi = {\"KHV\": [0.0], \"CEU\": [0.0], \"CHB\": [0.0], \"CHS\": [0.0], \"JPT\": [0.0], \"SAS\": [0.0], \"YRI\": [0.0]}\n",
    "chi_square = pd.DataFrame(hihi)\n",
    "print(chi_square)\n",
    "for x in range(0,7):\n",
    "    res = 0\n",
    "    for y in range(0,len(hypo)):\n",
    "        chi_square_value = ((hypo.iloc[y,x+1] - observed.iloc[y,x+1]) * (hypo.iloc[y,x+1] - observed.iloc[y,x+1])) / (hypo.iloc[y,x+1])\n",
    "        res += chi_square_value\n",
    "\n",
    "    p_value = 1 - stats.chi2.cdf(res, degrees_of_freedom)\n",
    "    chi_square.iloc[0,x] = p_value \n",
    "\n",
    "chi_square = chi_square.round(4)\n",
    "\n",
    "chi_square.index = ['CYP2C9']\n",
    "print(chi_square)"
   ]
  }
 ],
 "metadata": {
  "kernelspec": {
   "display_name": "Python 3",
   "language": "python",
   "name": "python3"
  },
  "language_info": {
   "codemirror_mode": {
    "name": "ipython",
    "version": 3
   },
   "file_extension": ".py",
   "mimetype": "text/x-python",
   "name": "python",
   "nbconvert_exporter": "python",
   "pygments_lexer": "ipython3",
   "version": "3.10.11"
  },
  "orig_nbformat": 4
 },
 "nbformat": 4,
 "nbformat_minor": 2
}
