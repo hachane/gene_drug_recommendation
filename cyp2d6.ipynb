{
 "cells": [
  {
   "cell_type": "code",
   "execution_count": 1,
   "metadata": {},
   "outputs": [],
   "source": [
    "import numpy as np\n",
    "import pandas as pd\n",
    "from itertools import combinations_with_replacement\n",
    "from scipy.stats import chi2\n",
    "import scipy.stats as stats\n",
    "ds = [206,99,103,105,104,489,108]"
   ]
  },
  {
   "cell_type": "code",
   "execution_count": 2,
   "metadata": {},
   "outputs": [
    {
     "name": "stdout",
     "output_type": "stream",
     "text": [
      "{32, 1, 2, 35, 4, 36, 71, 10, 45, 14, 17}\n"
     ]
    }
   ],
   "source": [
    "df = pd.read_excel('df.xlsx')\n",
    "\n",
    "# Filter to just KHV rows\n",
    "khv = df[df['Ethnic'] == 'KHV206g'] \n",
    "\n",
    "# Filter to just CYP2B6 rows\n",
    "cyp2d6 = khv[khv['Gene'] == 'CYP2D6']\n",
    "\n",
    "# Get unique CYP2B6 alleles \n",
    "cyp2d6_alleles = set(cyp2d6['Star Allele 1'].unique()) | set(cyp2d6['Star Allele 2'].unique())\n",
    "\n",
    "print(cyp2d6_alleles)"
   ]
  },
  {
   "cell_type": "code",
   "execution_count": 3,
   "metadata": {},
   "outputs": [
    {
     "name": "stdout",
     "output_type": "stream",
     "text": [
      "[1, 2, 4, 10, 14, 17, 32, 35, 36, 45, 71]\n",
      "    CYP2D6  KHV\n",
      "0        1  0.0\n",
      "1        2  0.0\n",
      "2        4  0.0\n",
      "3       10  0.0\n",
      "4       14  0.0\n",
      "5       17  0.0\n",
      "6       32  0.0\n",
      "7       35  0.0\n",
      "8       36  0.0\n",
      "9       45  0.0\n",
      "10      71  0.0\n"
     ]
    }
   ],
   "source": [
    "cyp2d6_alleles = list(cyp2d6_alleles)\n",
    "cyp2d6_alleles = [x for x in cyp2d6_alleles if str(x) != 'nan']\n",
    "cyp2d6_alleles.sort()\n",
    "'''value_to_delete = 'NaN'\n",
    "idx = np.where(cyp2d6_alleles == value_to_delete)[0][0]\n",
    "cyp2d6_alleles = np.delete(cyp2d6_alleles, idx)'''\n",
    "print(cyp2d6_alleles)\n",
    "\n",
    "\n",
    "cyp2d6table = pd.DataFrame(cyp2d6_alleles, columns=['CYP2D6'])\n",
    "cyp2d6table['KHV'] = 0.0\n",
    "print(cyp2d6table)"
   ]
  },
  {
   "cell_type": "code",
   "execution_count": 4,
   "metadata": {},
   "outputs": [
    {
     "name": "stdout",
     "output_type": "stream",
     "text": [
      "      Ethnic              Alleles  Percentage    Gene  Star Allele 1  \\\n",
      "424  KHV206g    CYP2D6*1/CYP2D6*1      9.7090  CYP2D6              1   \n",
      "425  KHV206g   CYP2D6*1/CYP2D6*10     21.8400  CYP2D6              1   \n",
      "426  KHV206g   CYP2D6*1/CYP2D6*14      0.4854  CYP2D6              1   \n",
      "427  KHV206g   CYP2D6*1/CYP2D6*17      0.9709  CYP2D6              1   \n",
      "428  KHV206g    CYP2D6*1/CYP2D6*2      4.8540  CYP2D6              1   \n",
      "429  KHV206g   CYP2D6*1/CYP2D6*32      1.4560  CYP2D6              1   \n",
      "430  KHV206g   CYP2D6*1/CYP2D6*45      0.4854  CYP2D6              1   \n",
      "431  KHV206g  CYP2D6*10/CYP2D6*10     33.0100  CYP2D6             10   \n",
      "432  KHV206g  CYP2D6*10/CYP2D6*14      1.9420  CYP2D6             10   \n",
      "433  KHV206g  CYP2D6*10/CYP2D6*32      4.3690  CYP2D6             10   \n",
      "434  KHV206g  CYP2D6*10/CYP2D6*36      0.4854  CYP2D6             10   \n",
      "435  KHV206g  CYP2D6*10/CYP2D6*71      0.9709  CYP2D6             10   \n",
      "436  KHV206g  CYP2D6*17/CYP2D6*17      0.9709  CYP2D6             17   \n",
      "437  KHV206g  CYP2D6*17/CYP2D6*35      0.4854  CYP2D6             17   \n",
      "438  KHV206g   CYP2D6*2/CYP2D6*10      7.2820  CYP2D6              2   \n",
      "439  KHV206g   CYP2D6*2/CYP2D6*17      0.9709  CYP2D6              2   \n",
      "440  KHV206g    CYP2D6*2/CYP2D6*2      3.3980  CYP2D6              2   \n",
      "441  KHV206g   CYP2D6*2/CYP2D6*35      0.4854  CYP2D6              2   \n",
      "442  KHV206g   CYP2D6*4/CYP2D6*32      0.4854  CYP2D6              4   \n",
      "\n",
      "     Star Allele 2  Percentage per allele  \n",
      "424              1                4.85450  \n",
      "425             10               10.92000  \n",
      "426             14                0.24270  \n",
      "427             17                0.48545  \n",
      "428              2                2.42700  \n",
      "429             32                0.72800  \n",
      "430             45                0.24270  \n",
      "431             10               16.50500  \n",
      "432             14                0.97100  \n",
      "433             32                2.18450  \n",
      "434             36                0.24270  \n",
      "435             71                0.48545  \n",
      "436             17                0.48545  \n",
      "437             35                0.24270  \n",
      "438             10                3.64100  \n",
      "439             17                0.48545  \n",
      "440              2                1.69900  \n",
      "441             35                0.24270  \n",
      "442             32                0.24270  \n",
      "   CYP2D6       KHV\n",
      "0       1  24.75485\n",
      "1       2  10.19415\n",
      "3      10  51.45465\n",
      "4      14   1.21370\n",
      "5      17   2.18450\n",
      "6      32   3.15520\n"
     ]
    }
   ],
   "source": [
    "khv_cyp2d6 = df.query(\"Ethnic == 'KHV206g' & Gene == 'CYP2D6'\")\n",
    "\n",
    "print(khv_cyp2d6)\n",
    "start = 0\n",
    "for allele in cyp2d6_alleles:\n",
    "  res = 0\n",
    "  for index, row in khv_cyp2d6.iterrows():\n",
    "    if allele == row['Star Allele 1']:\n",
    "      res += row['Percentage per allele']\n",
    "    if allele == row['Star Allele 2']:  \n",
    "      res += row['Percentage per allele']\n",
    "  cyp2d6table.at[start,'KHV'] = res\n",
    "  start += 1\n",
    "\n",
    "\n",
    "to_drop = cyp2d6table[cyp2d6table['KHV'] < 1]\n",
    "\n",
    "# Drop those rows by index\n",
    "cyp2d6table.drop(index=to_drop.index, inplace=True)\n",
    "# Divide by 100  \n",
    "print(cyp2d6table)"
   ]
  },
  {
   "cell_type": "code",
   "execution_count": 5,
   "metadata": {},
   "outputs": [
    {
     "name": "stdout",
     "output_type": "stream",
     "text": [
      "['CEU' 'CHB' 'CHS' 'JPT' 'SAS' 'YRI']\n",
      "    Ethnic              Alleles  Percentage    Gene  Star Allele 1  \\\n",
      "188    CEU    CYP2D6*1/CYP2D6*1     22.2200  CYP2D6              1   \n",
      "189    CEU   CYP2D6*1/CYP2D6*10      2.0200  CYP2D6              1   \n",
      "190    CEU    CYP2D6*1/CYP2D6*2      7.0710  CYP2D6              1   \n",
      "191    CEU   CYP2D6*1/CYP2D6*28      1.0100  CYP2D6              1   \n",
      "192    CEU   CYP2D6*1/CYP2D6*32      7.0710  CYP2D6              1   \n",
      "..     ...                  ...         ...     ...            ...   \n",
      "320    YRI    CYP2D6*2/CYP2D6*2      4.6300  CYP2D6              2   \n",
      "321    YRI   CYP2D6*2/CYP2D6*29      2.7780  CYP2D6              2   \n",
      "322    YRI   CYP2D6*2/CYP2D6*32      0.9259  CYP2D6              2   \n",
      "323    YRI   CYP2D6*2/CYP2D6*45      0.9259  CYP2D6              2   \n",
      "328    YRI  CYP2D6*32/CYP2D6*45      0.9259  CYP2D6             32   \n",
      "\n",
      "     Star Allele 2  Percentage per allele  \n",
      "188              1               11.11000  \n",
      "189             10                1.01000  \n",
      "190              2                3.53550  \n",
      "191             28                0.50500  \n",
      "192             32                3.53550  \n",
      "..             ...                    ...  \n",
      "320              2                2.31500  \n",
      "321             29                1.38900  \n",
      "322             32                0.46295  \n",
      "323             45                0.46295  \n",
      "328             45                0.46295  \n",
      "\n",
      "[123 rows x 7 columns]\n"
     ]
    }
   ],
   "source": [
    "temp = cyp2d6table['CYP2D6'].values.tolist()\n",
    "\n",
    "ethnics = df['Ethnic'].unique()\n",
    "ethnics =np.delete(ethnics, -1)\n",
    "value_to_delete = 'KHV'\n",
    "idx = np.where(ethnics == value_to_delete)[0][0]\n",
    "ethnics = np.delete(ethnics, idx)\n",
    "print(ethnics)\n",
    "\n",
    "\n",
    "cyp2d6_rows = df[df['Gene'] == 'CYP2D6']\n",
    "\n",
    "# Create bool series to check if allele in temp\n",
    "allele1_matches = cyp2d6_rows['Star Allele 1'].isin(temp)\n",
    "allele2_matches = cyp2d6_rows['Star Allele 2'].isin(temp)\n",
    "\n",
    "# Filter for rows where either allele matches \n",
    "mask = allele1_matches | allele2_matches\n",
    "cyp2d6_population = cyp2d6_rows[mask]\n",
    "cyp2d6_population = cyp2d6_population[cyp2d6_population['Ethnic'] != 'KHV206g']\n",
    "\n",
    "print(cyp2d6_population)#print(temp)"
   ]
  },
  {
   "cell_type": "code",
   "execution_count": 6,
   "metadata": {},
   "outputs": [
    {
     "name": "stdout",
     "output_type": "stream",
     "text": [
      "   CYP2D6       KHV  CEU  CHB  CHS  JPT  SAS  YRI\n",
      "0       1  24.75485  0.0  0.0  0.0  0.0  0.0  0.0\n",
      "1       2  10.19415  0.0  0.0  0.0  0.0  0.0  0.0\n",
      "2      10  51.45465  0.0  0.0  0.0  0.0  0.0  0.0\n",
      "3      14   1.21370  0.0  0.0  0.0  0.0  0.0  0.0\n",
      "4      17   2.18450  0.0  0.0  0.0  0.0  0.0  0.0\n",
      "5      32   3.15520  0.0  0.0  0.0  0.0  0.0  0.0\n"
     ]
    }
   ],
   "source": [
    "for ethnic in ethnics:\n",
    "        cyp2d6table[ethnic] = 0.0\n",
    "\n",
    "cyp2d6table = cyp2d6table.reset_index(drop=True)\n",
    "\n",
    "print(cyp2d6table)"
   ]
  },
  {
   "cell_type": "code",
   "execution_count": 7,
   "metadata": {},
   "outputs": [
    {
     "name": "stdout",
     "output_type": "stream",
     "text": [
      "   CYP2D6   KHV   CEU   CHB   CHS   JPT   SAS   YRI\n",
      "0       1  24.8  39.9  21.4  22.9  50.0  40.5  26.4\n",
      "1       2  10.2  13.6  12.1   8.6  13.0  21.8  13.9\n",
      "2      10  51.5   1.5  56.8  59.5  36.1   5.0   4.6\n",
      "3      14   1.2   0.0   0.5   0.0   0.5   0.0   0.0\n",
      "4      17   2.2   0.0   0.0   0.0   0.0   0.0  24.1\n",
      "5      32   3.2  11.6   3.4   4.8   0.5  11.5   0.9\n"
     ]
    }
   ],
   "source": [
    "start = 0\n",
    "for ethnic in ethnics:\n",
    "    start = 0\n",
    "    for starallele in temp:\n",
    "        res = 0\n",
    "\n",
    "        for index, row in cyp2d6_population.iterrows():\n",
    "            if row['Ethnic'] == ethnic:\n",
    "                if starallele == row['Star Allele 1']:\n",
    "                    res += row['Percentage per allele']\n",
    "                if starallele == row['Star Allele 2']:  \n",
    "                    res += row['Percentage per allele']\n",
    "                cyp2d6table.at[start,ethnic] = res\n",
    "        #print(start)    \n",
    "        start += 1\n",
    "    cyp2d6table[ethnic] = cyp2d6table[ethnic].round(1)\n",
    "\n",
    "cyp2d6table['KHV'] = cyp2d6table['KHV'].round(1)\n",
    "cyp2d6table.to_csv('frq/cyp2d6.csv')\n",
    "print(cyp2d6table)"
   ]
  },
  {
   "cell_type": "code",
   "execution_count": 8,
   "metadata": {},
   "outputs": [
    {
     "name": "stdout",
     "output_type": "stream",
     "text": [
      "           CEU     CHB     CHS     JPT     SAS    YRI\n",
      "CYP2D6  0.0874  0.0019  0.0032  0.0341  0.0837  0.082\n"
     ]
    }
   ],
   "source": [
    "init = {'CEU': [0], 'CHB': [0], 'CHS': [0], 'JPT': [0], 'SAS': [0], 'YRI': [0]}\n",
    "gst = pd.DataFrame(init, dtype=float)\n",
    "\n",
    "h_s_k = 1.0\n",
    "for index,value in cyp2d6table.iterrows():\n",
    "    h_s_k -= (cyp2d6table.at[index,'KHV']/100) * (cyp2d6table.at[index,'KHV']/100)\n",
    "\n",
    "for idx in range(0,6):\n",
    "    value = 0\n",
    "    h_t = 1.0\n",
    "    h_s = 1.0\n",
    "    for id in range(0,6):\n",
    "        h_t -= ((cyp2d6table.iloc[id,idx + 2] + cyp2d6table.iloc[id,1])/200) * ((cyp2d6table.iloc[id,idx + 2] + cyp2d6table.iloc[id,1])/200)\n",
    "        h_s -= (cyp2d6table.iloc[id,idx + 2]/100) * (cyp2d6table.iloc[id,idx + 2]/100)\n",
    "    h_s = (h_s + h_s_k)/2\n",
    "    gst.iloc[0,idx] = (h_t - h_s)/h_t # You can modify the value here'''\n",
    "\n",
    "gst = gst.round(4)\n",
    "gst.index = ['CYP2D6']\n",
    "gst.to_csv('gst/gst_cyp2d6.csv')\n",
    "print(gst)"
   ]
  },
  {
   "cell_type": "code",
   "execution_count": 9,
   "metadata": {},
   "outputs": [
    {
     "name": "stdout",
     "output_type": "stream",
     "text": [
      "['CYP2D6*1/CYP2D6*1', 'CYP2D6*1/CYP2D6*2', 'CYP2D6*1/CYP2D6*10', 'CYP2D6*1/CYP2D6*14', 'CYP2D6*1/CYP2D6*17', 'CYP2D6*1/CYP2D6*32', 'CYP2D6*2/CYP2D6*2', 'CYP2D6*2/CYP2D6*10', 'CYP2D6*2/CYP2D6*14', 'CYP2D6*2/CYP2D6*17', 'CYP2D6*2/CYP2D6*32', 'CYP2D6*10/CYP2D6*10', 'CYP2D6*10/CYP2D6*14', 'CYP2D6*10/CYP2D6*17', 'CYP2D6*10/CYP2D6*32', 'CYP2D6*14/CYP2D6*14', 'CYP2D6*14/CYP2D6*17', 'CYP2D6*14/CYP2D6*32', 'CYP2D6*17/CYP2D6*17', 'CYP2D6*17/CYP2D6*32', 'CYP2D6*32/CYP2D6*32']\n",
      "['CYP2D6*1/CYP2D6*1', 'CYP2D6*1/CYP2D6*2', 'CYP2D6*1/CYP2D6*10', 'CYP2D6*1/CYP2D6*14', 'CYP2D6*1/CYP2D6*17', 'CYP2D6*1/CYP2D6*32', 'CYP2D6*2/CYP2D6*2', 'CYP2D6*2/CYP2D6*10', 'CYP2D6*2/CYP2D6*14', 'CYP2D6*2/CYP2D6*17', 'CYP2D6*2/CYP2D6*32', 'CYP2D6*10/CYP2D6*10', 'CYP2D6*10/CYP2D6*14', 'CYP2D6*10/CYP2D6*17', 'CYP2D6*10/CYP2D6*32', 'CYP2D6*14/CYP2D6*14', 'CYP2D6*14/CYP2D6*17', 'CYP2D6*14/CYP2D6*32', 'CYP2D6*17/CYP2D6*17', 'CYP2D6*17/CYP2D6*32', 'CYP2D6*32/CYP2D6*32']\n"
     ]
    }
   ],
   "source": [
    "test = list(cyp2d6table['CYP2D6'])\n",
    "test = ['CYP2D6*' + str(int(item)) for item in test]\n",
    "\n",
    "def generate_gene_combinations(alleles):\n",
    "    res = []\n",
    "    length = len(alleles)\n",
    "    for x in range(0,length):\n",
    "        for y in range(x,length):\n",
    "            lol = f'{alleles[x]}/{alleles[y]}'\n",
    "            res.append(lol)\n",
    "\n",
    "    return res\n",
    "\n",
    "print(generate_gene_combinations(test))\n",
    "gene_combinations = generate_gene_combinations(test)\n",
    "\n",
    "degrees_of_freedom = len(gene_combinations) - 1\n",
    "print(gene_combinations)"
   ]
  },
  {
   "cell_type": "code",
   "execution_count": 10,
   "metadata": {},
   "outputs": [
    {
     "name": "stdout",
     "output_type": "stream",
     "text": [
      "                   Gene  KHV  CEU  CHB  CHS  JPT  SAS  YRI\n",
      "0     CYP2D6*1/CYP2D6*1  0.0  0.0  0.0  0.0  0.0  0.0  0.0\n",
      "1     CYP2D6*1/CYP2D6*2  0.0  0.0  0.0  0.0  0.0  0.0  0.0\n",
      "2    CYP2D6*1/CYP2D6*10  0.0  0.0  0.0  0.0  0.0  0.0  0.0\n",
      "3    CYP2D6*1/CYP2D6*14  0.0  0.0  0.0  0.0  0.0  0.0  0.0\n",
      "4    CYP2D6*1/CYP2D6*17  0.0  0.0  0.0  0.0  0.0  0.0  0.0\n",
      "5    CYP2D6*1/CYP2D6*32  0.0  0.0  0.0  0.0  0.0  0.0  0.0\n",
      "6     CYP2D6*2/CYP2D6*2  0.0  0.0  0.0  0.0  0.0  0.0  0.0\n",
      "7    CYP2D6*2/CYP2D6*10  0.0  0.0  0.0  0.0  0.0  0.0  0.0\n",
      "8    CYP2D6*2/CYP2D6*14  0.0  0.0  0.0  0.0  0.0  0.0  0.0\n",
      "9    CYP2D6*2/CYP2D6*17  0.0  0.0  0.0  0.0  0.0  0.0  0.0\n",
      "10   CYP2D6*2/CYP2D6*32  0.0  0.0  0.0  0.0  0.0  0.0  0.0\n",
      "11  CYP2D6*10/CYP2D6*10  0.0  0.0  0.0  0.0  0.0  0.0  0.0\n",
      "12  CYP2D6*10/CYP2D6*14  0.0  0.0  0.0  0.0  0.0  0.0  0.0\n",
      "13  CYP2D6*10/CYP2D6*17  0.0  0.0  0.0  0.0  0.0  0.0  0.0\n",
      "14  CYP2D6*10/CYP2D6*32  0.0  0.0  0.0  0.0  0.0  0.0  0.0\n",
      "15  CYP2D6*14/CYP2D6*14  0.0  0.0  0.0  0.0  0.0  0.0  0.0\n",
      "16  CYP2D6*14/CYP2D6*17  0.0  0.0  0.0  0.0  0.0  0.0  0.0\n",
      "17  CYP2D6*14/CYP2D6*32  0.0  0.0  0.0  0.0  0.0  0.0  0.0\n",
      "18  CYP2D6*17/CYP2D6*17  0.0  0.0  0.0  0.0  0.0  0.0  0.0\n",
      "19  CYP2D6*17/CYP2D6*32  0.0  0.0  0.0  0.0  0.0  0.0  0.0\n",
      "20  CYP2D6*32/CYP2D6*32  0.0  0.0  0.0  0.0  0.0  0.0  0.0\n"
     ]
    }
   ],
   "source": [
    "observed = pd.DataFrame(gene_combinations, columns=['Gene'])\n",
    "new_columns = ['KHV', 'CEU', 'CHB', 'CHS', 'JPT', 'SAS', 'YRI']\n",
    "for column in new_columns:\n",
    "    observed[column] = 0.0\n",
    "\n",
    "print(observed)"
   ]
  },
  {
   "cell_type": "code",
   "execution_count": 11,
   "metadata": {},
   "outputs": [
    {
     "name": "stdout",
     "output_type": "stream",
     "text": [
      "                   Gene   KHV   CEU   CHB   CHS   JPT   SAS   YRI\n",
      "0     CYP2D6*1/CYP2D6*1   6.0  22.0   8.0   7.0  27.0  98.0  12.0\n",
      "1     CYP2D6*1/CYP2D6*2   4.0   7.0   5.0   3.0  11.0  77.0   5.0\n",
      "2    CYP2D6*1/CYP2D6*10  56.0   2.0  20.0  26.0  37.0  22.0   3.0\n",
      "3    CYP2D6*1/CYP2D6*14   2.0   0.0   1.0   0.0   1.0   0.0   0.0\n",
      "4    CYP2D6*1/CYP2D6*17   2.0   0.0   0.0   0.0   0.0   0.0  13.0\n",
      "5    CYP2D6*1/CYP2D6*32   2.0   7.0   2.0   4.0   1.0  40.0   0.0\n",
      "6     CYP2D6*2/CYP2D6*2   4.0   3.0   1.0   2.0   4.0  30.0   5.0\n",
      "7    CYP2D6*2/CYP2D6*10  21.0   1.0  18.0   8.0   8.0  13.0   2.0\n",
      "8    CYP2D6*2/CYP2D6*14   0.0   0.0   0.0   0.0   0.0   0.0   0.0\n",
      "9    CYP2D6*2/CYP2D6*17   2.0   0.0   0.0   0.0   0.0   0.0   8.0\n",
      "10   CYP2D6*2/CYP2D6*32   0.0   4.0   0.0   2.0   0.0  30.0   1.0\n",
      "11  CYP2D6*10/CYP2D6*10  81.0   0.0  35.0  43.0  15.0   2.0   1.0\n",
      "12  CYP2D6*10/CYP2D6*14   8.0   0.0   0.0   0.0   0.0   0.0   0.0\n",
      "13  CYP2D6*10/CYP2D6*17   0.0   0.0   0.0   0.0   0.0   0.0   2.0\n",
      "14  CYP2D6*10/CYP2D6*32   8.0   0.0   5.0   4.0   0.0   5.0   0.0\n",
      "15  CYP2D6*14/CYP2D6*14   0.0   0.0   0.0   0.0   0.0   0.0   0.0\n",
      "16  CYP2D6*14/CYP2D6*17   0.0   0.0   0.0   0.0   0.0   0.0   0.0\n",
      "17  CYP2D6*14/CYP2D6*32   0.0   0.0   0.0   0.0   0.0   0.0   0.0\n",
      "18  CYP2D6*17/CYP2D6*17   2.0   0.0   0.0   0.0   0.0   0.0  10.0\n",
      "19  CYP2D6*17/CYP2D6*32   0.0   0.0   0.0   0.0   0.0   0.0   0.0\n",
      "20  CYP2D6*32/CYP2D6*32   0.0   2.0   0.0   0.0   0.0  11.0   0.0\n"
     ]
    }
   ],
   "source": [
    "l = len(khv_cyp2d6)\n",
    "for x in range(0,l):\n",
    "    if khv_cyp2d6.iloc[x,1] in gene_combinations:\n",
    "        gene_to_update = khv_cyp2d6.iloc[x,1]\n",
    "        new_value = khv_cyp2d6.iloc[x,2]\n",
    "        observed.loc[observed['Gene'] == gene_to_update, 'KHV'] = new_value\n",
    "\n",
    "length = len(cyp2d6_population)\n",
    "for x in range(0,length):\n",
    "    if cyp2d6_population.iloc[x,1] in gene_combinations:\n",
    "        gene_to_update = cyp2d6_population.iloc[x,1]\n",
    "        pop_to_update = cyp2d6_population.iloc[x,0]\n",
    "        new_value = cyp2d6_population.iloc[x,2]\n",
    "        observed.loc[observed['Gene'] == gene_to_update, pop_to_update ] = new_value \n",
    "\n",
    "for x in range(0,7):\n",
    "    for y in range(0,len(gene_combinations)):\n",
    "        observed.iloc[y,x+1] = observed.iloc[y,x+1] * ((ds[x] * 1.0)/ 100)\n",
    "\n",
    "observed = observed.round(0)\n",
    "print(observed)"
   ]
  },
  {
   "cell_type": "code",
   "execution_count": 12,
   "metadata": {},
   "outputs": [
    {
     "name": "stdout",
     "output_type": "stream",
     "text": [
      "                   Gene       KHV       CEU       CHB       CHS       JPT  \\\n",
      "0     CYP2D6*1/CYP2D6*1  0.061504  0.159201  0.045796  0.052441  0.250000   \n",
      "1     CYP2D6*1/CYP2D6*2  0.050592  0.108528  0.051788  0.039388  0.130000   \n",
      "2    CYP2D6*1/CYP2D6*10  0.255440  0.011970  0.243104  0.272510  0.361000   \n",
      "3    CYP2D6*1/CYP2D6*14  0.005952  0.000000  0.002140  0.000000  0.005000   \n",
      "4    CYP2D6*1/CYP2D6*17  0.010912  0.000000  0.000000  0.000000  0.000000   \n",
      "5    CYP2D6*1/CYP2D6*32  0.015872  0.092568  0.014552  0.021984  0.005000   \n",
      "6     CYP2D6*2/CYP2D6*2  0.010404  0.018496  0.014641  0.007396  0.016900   \n",
      "7    CYP2D6*2/CYP2D6*10  0.105060  0.004080  0.137456  0.102340  0.093860   \n",
      "8    CYP2D6*2/CYP2D6*14  0.002448  0.000000  0.001210  0.000000  0.001300   \n",
      "9    CYP2D6*2/CYP2D6*17  0.004488  0.000000  0.000000  0.000000  0.000000   \n",
      "10   CYP2D6*2/CYP2D6*32  0.006528  0.031552  0.008228  0.008256  0.001300   \n",
      "11  CYP2D6*10/CYP2D6*10  0.265225  0.000225  0.322624  0.354025  0.130321   \n",
      "12  CYP2D6*10/CYP2D6*14  0.012360  0.000000  0.005680  0.000000  0.003610   \n",
      "13  CYP2D6*10/CYP2D6*17  0.022660  0.000000  0.000000  0.000000  0.000000   \n",
      "14  CYP2D6*10/CYP2D6*32  0.032960  0.003480  0.038624  0.057120  0.003610   \n",
      "15  CYP2D6*14/CYP2D6*14  0.000144  0.000000  0.000025  0.000000  0.000025   \n",
      "16  CYP2D6*14/CYP2D6*17  0.000528  0.000000  0.000000  0.000000  0.000000   \n",
      "17  CYP2D6*14/CYP2D6*32  0.000768  0.000000  0.000340  0.000000  0.000050   \n",
      "18  CYP2D6*17/CYP2D6*17  0.000484  0.000000  0.000000  0.000000  0.000000   \n",
      "19  CYP2D6*17/CYP2D6*32  0.001408  0.000000  0.000000  0.000000  0.000000   \n",
      "20  CYP2D6*32/CYP2D6*32  0.001024  0.013456  0.001156  0.002304  0.000025   \n",
      "\n",
      "         SAS       YRI  \n",
      "0   0.164025  0.069696  \n",
      "1   0.176580  0.073392  \n",
      "2   0.040500  0.024288  \n",
      "3   0.000000  0.000000  \n",
      "4   0.000000  0.127248  \n",
      "5   0.093150  0.004752  \n",
      "6   0.047524  0.019321  \n",
      "7   0.021800  0.012788  \n",
      "8   0.000000  0.000000  \n",
      "9   0.000000  0.066998  \n",
      "10  0.050140  0.002502  \n",
      "11  0.002500  0.002116  \n",
      "12  0.000000  0.000000  \n",
      "13  0.000000  0.022172  \n",
      "14  0.011500  0.000828  \n",
      "15  0.000000  0.000000  \n",
      "16  0.000000  0.000000  \n",
      "17  0.000000  0.000000  \n",
      "18  0.000000  0.058081  \n",
      "19  0.000000  0.004338  \n",
      "20  0.013225  0.000081  \n"
     ]
    }
   ],
   "source": [
    "hypo = pd.DataFrame(gene_combinations, columns=['Gene'])\n",
    "for column in new_columns:\n",
    "    hypo[column] = 0.0\n",
    "\n",
    "allele = cyp2d6table.iloc[:,0].tolist()\n",
    "\n",
    "for x in range(0,7):\n",
    "    temp = cyp2d6table.iloc[:,x + 1].tolist()\n",
    "    for allele1 in range(0,len(temp)):\n",
    "        for allele2 in range(allele1,len(temp)):\n",
    "            if allele1 == allele2:\n",
    "                new_value = (temp[allele1] / 100) * (temp[allele2] / 100)\n",
    "            elif allele1 != allele2:\n",
    "                new_value = 2 * (temp[allele1] / 100) * (temp[allele2] / 100)\n",
    "            gene = f\"CYP2D6*{int(allele[allele1])}/CYP2D6*{int(allele[allele2])}\"\n",
    "            \n",
    "            row_index = hypo.index[hypo['Gene'] == gene].tolist()[0]\n",
    "            hypo.iloc[row_index, x+1] = new_value\n",
    "\n",
    "print(hypo)"
   ]
  },
  {
   "cell_type": "code",
   "execution_count": 13,
   "metadata": {},
   "outputs": [
    {
     "name": "stdout",
     "output_type": "stream",
     "text": [
      "                   Gene   KHV   CEU   CHB   CHS   JPT   SAS   YRI\n",
      "0     CYP2D6*1/CYP2D6*1  13.0  16.0   5.0   6.0  26.0  80.0   8.0\n",
      "1     CYP2D6*1/CYP2D6*2  10.0  11.0   5.0   4.0  14.0  86.0   8.0\n",
      "2    CYP2D6*1/CYP2D6*10  53.0   1.0  25.0  29.0  38.0  20.0   3.0\n",
      "3    CYP2D6*1/CYP2D6*14   1.0   1.0   1.0   1.0   1.0   1.0   1.0\n",
      "4    CYP2D6*1/CYP2D6*17   2.0   1.0   1.0   1.0   1.0   1.0  14.0\n",
      "5    CYP2D6*1/CYP2D6*32   3.0   9.0   1.0   2.0   1.0  46.0   1.0\n",
      "6     CYP2D6*2/CYP2D6*2   2.0   2.0   2.0   1.0   2.0  23.0   2.0\n",
      "7    CYP2D6*2/CYP2D6*10  22.0   1.0  14.0  11.0  10.0  11.0   1.0\n",
      "8    CYP2D6*2/CYP2D6*14   1.0   1.0   1.0   1.0   1.0   1.0   1.0\n",
      "9    CYP2D6*2/CYP2D6*17   1.0   1.0   1.0   1.0   1.0   1.0   7.0\n",
      "10   CYP2D6*2/CYP2D6*32   1.0   3.0   1.0   1.0   1.0  25.0   1.0\n",
      "11  CYP2D6*10/CYP2D6*10  55.0   1.0  33.0  37.0  14.0   1.0   1.0\n",
      "12  CYP2D6*10/CYP2D6*14   3.0   1.0   1.0   1.0   1.0   1.0   1.0\n",
      "13  CYP2D6*10/CYP2D6*17   5.0   1.0   1.0   1.0   1.0   1.0   2.0\n",
      "14  CYP2D6*10/CYP2D6*32   7.0   1.0   4.0   6.0   1.0   6.0   1.0\n",
      "15  CYP2D6*14/CYP2D6*14   1.0   1.0   1.0   1.0   1.0   1.0   1.0\n",
      "16  CYP2D6*14/CYP2D6*17   1.0   1.0   1.0   1.0   1.0   1.0   1.0\n",
      "17  CYP2D6*14/CYP2D6*32   1.0   1.0   1.0   1.0   1.0   1.0   1.0\n",
      "18  CYP2D6*17/CYP2D6*17   1.0   1.0   1.0   1.0   1.0   1.0   6.0\n",
      "19  CYP2D6*17/CYP2D6*32   1.0   1.0   1.0   1.0   1.0   1.0   1.0\n",
      "20  CYP2D6*32/CYP2D6*32   1.0   1.0   1.0   1.0   1.0   6.0   1.0\n"
     ]
    }
   ],
   "source": [
    "for x in range(0,7):\n",
    "    for y in range(0,len(gene_combinations)):\n",
    "        hypo.iloc[y,x+1] = hypo.iloc[y,x+1] * ((ds[x] * 1.0))\n",
    "        if hypo.iloc[y,x+1] < 1:\n",
    "            hypo.iloc[y,x+1] = 1\n",
    "hypo = hypo.round(0)\n",
    "print(hypo)"
   ]
  },
  {
   "cell_type": "code",
   "execution_count": 14,
   "metadata": {},
   "outputs": [
    {
     "name": "stdout",
     "output_type": "stream",
     "text": [
      "   KHV  CEU  CHB  CHS  JPT  SAS  YRI\n",
      "0  0.0  0.0  0.0  0.0  0.0  0.0  0.0\n",
      "           KHV    CEU     CHB     CHS     JPT     SAS     YRI\n",
      "CYP2D6  0.0009  0.459  0.5997  0.5098  0.7055  0.1725  0.3679\n"
     ]
    }
   ],
   "source": [
    "hihi = {\"KHV\": [0.0], \"CEU\": [0.0], \"CHB\": [0.0], \"CHS\": [0.0], \"JPT\": [0.0], \"SAS\": [0.0], \"YRI\": [0.0]}\n",
    "chi_square = pd.DataFrame(hihi)\n",
    "print(chi_square)\n",
    "for x in range(0,7):\n",
    "    res = 0\n",
    "    for y in range(0,len(hypo)):\n",
    "        chi_square_value = ((hypo.iloc[y,x+1] - observed.iloc[y,x+1]) * (hypo.iloc[y,x+1] - observed.iloc[y,x+1])) / (hypo.iloc[y,x+1])\n",
    "        res += chi_square_value\n",
    "\n",
    "    p_value = 1 - stats.chi2.cdf(res, degrees_of_freedom)\n",
    "    chi_square.iloc[0,x] = p_value \n",
    "\n",
    "chi_square = chi_square.round(4)\n",
    "\n",
    "chi_square.index = ['CYP2D6']\n",
    "print(chi_square)"
   ]
  },
  {
   "cell_type": "code",
   "execution_count": null,
   "metadata": {},
   "outputs": [],
   "source": [
    "print(cyp2d6table)\n",
    "def f(row):\n",
    "    return \"CYP2D6*\" + str(row)\n",
    "cyp2d6table[\"CYP2D6\"] = cyp2d6table[\"CYP2D6\"].apply(f)\n",
    "cyp2d6table.rename(columns={\"CYP2D6\": \"Gene\"}, inplace=True)\n",
    "cyp2d6table.to_excel(\"heatmap/cyp2d6table.xlsx\")"
   ]
  }
 ],
 "metadata": {
  "kernelspec": {
   "display_name": "Python 3",
   "language": "python",
   "name": "python3"
  },
  "language_info": {
   "codemirror_mode": {
    "name": "ipython",
    "version": 3
   },
   "file_extension": ".py",
   "mimetype": "text/x-python",
   "name": "python",
   "nbconvert_exporter": "python",
   "pygments_lexer": "ipython3",
   "version": "3.10.11"
  },
  "orig_nbformat": 4
 },
 "nbformat": 4,
 "nbformat_minor": 2
}
