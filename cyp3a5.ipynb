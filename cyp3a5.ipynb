{
 "cells": [
  {
   "cell_type": "code",
   "execution_count": 1,
   "metadata": {},
   "outputs": [],
   "source": [
    "import numpy as np\n",
    "import pandas as pd\n",
    "from itertools import combinations_with_replacement\n",
    "from scipy.stats import chi2\n",
    "import scipy.stats as stats\n",
    "ds = [206,99,103,105,104,489,108]"
   ]
  },
  {
   "cell_type": "code",
   "execution_count": 2,
   "metadata": {},
   "outputs": [
    {
     "name": "stdout",
     "output_type": "stream",
     "text": [
      "{1, 3, 4}\n"
     ]
    }
   ],
   "source": [
    "df = pd.read_excel('df.xlsx')\n",
    "\n",
    "# Filter to just KHV rows\n",
    "khv = df[df['Ethnic'] == 'KHV206g'] \n",
    "\n",
    "# Filter to just CYP2B6 rows\n",
    "cyp3a5 = khv[khv['Gene'] == 'CYP3A5']\n",
    "\n",
    "# Get unique CYP2B6 alleles \n",
    "cyp3a5_alleles = set(cyp3a5['Star Allele 1'].unique()) | set(cyp3a5['Star Allele 2'].unique())\n",
    "\n",
    "print(cyp3a5_alleles)"
   ]
  },
  {
   "cell_type": "code",
   "execution_count": 3,
   "metadata": {},
   "outputs": [
    {
     "name": "stdout",
     "output_type": "stream",
     "text": [
      "[1, 3, 4]\n",
      "   CYP3A5  KHV\n",
      "0       1  0.0\n",
      "1       3  0.0\n",
      "2       4  0.0\n"
     ]
    }
   ],
   "source": [
    "cyp3a5_alleles = list(cyp3a5_alleles)\n",
    "cyp3a5_alleles = [x for x in cyp3a5_alleles if str(x) != 'nan']\n",
    "\n",
    "print(cyp3a5_alleles)\n",
    "\n",
    "\n",
    "cyp3a5table = pd.DataFrame(cyp3a5_alleles, columns=['CYP3A5'])\n",
    "cyp3a5table['KHV'] = 0.0\n",
    "print(cyp3a5table)"
   ]
  },
  {
   "cell_type": "code",
   "execution_count": 4,
   "metadata": {},
   "outputs": [
    {
     "name": "stdout",
     "output_type": "stream",
     "text": [
      "      Ethnic            Alleles  Percentage    Gene  Star Allele 1  \\\n",
      "443  KHV206g  CYP3A5*1/CYP3A5*1     11.6500  CYP3A5              1   \n",
      "444  KHV206g  CYP3A5*1/CYP3A5*3     37.8600  CYP3A5              1   \n",
      "445  KHV206g  CYP3A5*1/CYP3A5*4      0.9709  CYP3A5              1   \n",
      "446  KHV206g  CYP3A5*3/CYP3A5*3     45.6300  CYP3A5              3   \n",
      "\n",
      "     Star Allele 2  Percentage per allele  \n",
      "443              1                5.82500  \n",
      "444              3               18.93000  \n",
      "445              4                0.48545  \n",
      "446              3               22.81500  \n",
      "   CYP3A5       KHV\n",
      "0       1  31.06545\n",
      "1       3  64.56000\n"
     ]
    }
   ],
   "source": [
    "khv_cyp3a5 = df.query(\"Ethnic == 'KHV206g' & Gene == 'CYP3A5'\")\n",
    "\n",
    "print(khv_cyp3a5)\n",
    "start = 0\n",
    "for allele in cyp3a5_alleles:\n",
    "  res = 0\n",
    "  for index, row in khv_cyp3a5.iterrows():\n",
    "    if allele == row['Star Allele 1']:\n",
    "      res += row['Percentage per allele']\n",
    "    if allele == row['Star Allele 2']:  \n",
    "      res += row['Percentage per allele']\n",
    "  cyp3a5table.at[start,'KHV'] = res\n",
    "  start += 1\n",
    "\n",
    "\n",
    "to_drop = cyp3a5table[cyp3a5table['KHV'] < 1]\n",
    "\n",
    "# Drop those rows by index\n",
    "cyp3a5table.drop(index=to_drop.index, inplace=True)\n",
    "# Divide by 100  \n",
    "print(cyp3a5table)"
   ]
  },
  {
   "cell_type": "code",
   "execution_count": 5,
   "metadata": {},
   "outputs": [
    {
     "name": "stdout",
     "output_type": "stream",
     "text": [
      "['CEU' 'CHB' 'CHS' 'JPT' 'SAS' 'YRI']\n",
      "    Ethnic            Alleles  Percentage    Gene  Star Allele 1  \\\n",
      "330    CEU  CYP3A5*1/CYP3A5*3      8.0810  CYP3A5              1   \n",
      "331    CEU  CYP3A5*3/CYP3A5*3     89.9000  CYP3A5              3   \n",
      "332    CHB  CYP3A5*1/CYP3A5*1     11.6500  CYP3A5              1   \n",
      "333    CHB  CYP3A5*1/CYP3A5*3     38.8300  CYP3A5              1   \n",
      "334    CHB  CYP3A5*3/CYP3A5*3     49.5100  CYP3A5              3   \n",
      "335    CHS  CYP3A5*1/CYP3A5*1      7.6190  CYP3A5              1   \n",
      "336    CHS  CYP3A5*1/CYP3A5*3     38.1000  CYP3A5              1   \n",
      "337    CHS  CYP3A5*3/CYP3A5*3     49.5200  CYP3A5              3   \n",
      "338    KHV  CYP3A5*1/CYP3A5*1      7.0710  CYP3A5              1   \n",
      "339    KHV  CYP3A5*1/CYP3A5*3     41.4100  CYP3A5              1   \n",
      "340    KHV  CYP3A5*3/CYP3A5*3     48.4800  CYP3A5              3   \n",
      "341    JPT  CYP3A5*1/CYP3A5*1      3.8460  CYP3A5              1   \n",
      "342    JPT  CYP3A5*1/CYP3A5*3     43.2700  CYP3A5              1   \n",
      "343    JPT  CYP3A5*3/CYP3A5*3     52.8800  CYP3A5              3   \n",
      "344    SAS  CYP3A5*1/CYP3A5*1     12.0700  CYP3A5              1   \n",
      "345    SAS  CYP3A5*1/CYP3A5*3     42.3300  CYP3A5              1   \n",
      "346    SAS  CYP3A5*3/CYP3A5*3     45.6000  CYP3A5              3   \n",
      "347    YRI  CYP3A5*1/CYP3A5*1     31.4800  CYP3A5              1   \n",
      "348    YRI  CYP3A5*1/CYP3A5*3     20.3700  CYP3A5              1   \n",
      "349    YRI  CYP3A5*1/CYP3A5*6     18.5200  CYP3A5              1   \n",
      "350    YRI  CYP3A5*1/CYP3A5*7      0.9259  CYP3A5              1   \n",
      "351    YRI  CYP3A5*3/CYP3A5*3      0.9259  CYP3A5              3   \n",
      "352    YRI  CYP3A5*3/CYP3A5*6      3.7040  CYP3A5              3   \n",
      "353    YRI  CYP3A5*3/CYP3A5*7      2.7780  CYP3A5              3   \n",
      "\n",
      "     Star Allele 2  Percentage per allele  \n",
      "330              3                4.04050  \n",
      "331              3               44.95000  \n",
      "332              1                5.82500  \n",
      "333              3               19.41500  \n",
      "334              3               24.75500  \n",
      "335              1                3.80950  \n",
      "336              3               19.05000  \n",
      "337              3               24.76000  \n",
      "338              1                3.53550  \n",
      "339              3               20.70500  \n",
      "340              3               24.24000  \n",
      "341              1                1.92300  \n",
      "342              3               21.63500  \n",
      "343              3               26.44000  \n",
      "344              1                6.03500  \n",
      "345              3               21.16500  \n",
      "346              3               22.80000  \n",
      "347              1               15.74000  \n",
      "348              3               10.18500  \n",
      "349              6                9.26000  \n",
      "350              7                0.46295  \n",
      "351              3                0.46295  \n",
      "352              6                1.85200  \n",
      "353              7                1.38900  \n"
     ]
    }
   ],
   "source": [
    "temp = cyp3a5table['CYP3A5'].values.tolist()\n",
    "\n",
    "ethnics = df['Ethnic'].unique()\n",
    "ethnics =np.delete(ethnics, -1)\n",
    "value_to_delete = 'KHV'\n",
    "idx = np.where(ethnics == value_to_delete)[0][0]\n",
    "ethnics = np.delete(ethnics, idx)\n",
    "print(ethnics)\n",
    "\n",
    "\n",
    "cyp3a5_rows = df[df['Gene'] == 'CYP3A5']\n",
    "\n",
    "# Create bool series to check if allele in temp\n",
    "allele1_matches = cyp3a5_rows['Star Allele 1'].isin(temp)\n",
    "allele2_matches = cyp3a5_rows['Star Allele 2'].isin(temp)\n",
    "\n",
    "# Filter for rows where either allele matches \n",
    "mask = allele1_matches | allele2_matches\n",
    "cyp3a5_population = cyp3a5_rows[mask]\n",
    "cyp3a5_population = cyp3a5_population[cyp3a5_population['Ethnic'] != 'KHV206g']\n",
    "\n",
    "print(cyp3a5_population)#print(temp)"
   ]
  },
  {
   "cell_type": "code",
   "execution_count": 6,
   "metadata": {},
   "outputs": [
    {
     "name": "stdout",
     "output_type": "stream",
     "text": [
      "   CYP3A5       KHV  CEU  CHB  CHS  JPT  SAS  YRI\n",
      "0       1  31.06545  0.0  0.0  0.0  0.0  0.0  0.0\n",
      "1       3  64.56000  0.0  0.0  0.0  0.0  0.0  0.0\n"
     ]
    }
   ],
   "source": [
    "for ethnic in ethnics:\n",
    "        cyp3a5table[ethnic] = 0.0\n",
    "\n",
    "cyp3a5table = cyp3a5table.reset_index(drop=True)\n",
    "\n",
    "print(cyp3a5table)"
   ]
  },
  {
   "cell_type": "code",
   "execution_count": 7,
   "metadata": {},
   "outputs": [
    {
     "name": "stdout",
     "output_type": "stream",
     "text": [
      "   CYP3A5   KHV   CEU   CHB   CHS   JPT   SAS   YRI\n",
      "0       1  31.1   4.0  31.1  26.7  25.5  33.2  51.4\n",
      "1       3  64.6  93.9  68.9  68.6  74.5  66.8  14.4\n"
     ]
    }
   ],
   "source": [
    "start = 0\n",
    "for ethnic in ethnics:\n",
    "    start = 0\n",
    "    for starallele in temp:\n",
    "        res = 0\n",
    "\n",
    "        for index, row in cyp3a5_population.iterrows():\n",
    "            if row['Ethnic'] == ethnic:\n",
    "                if starallele == row['Star Allele 1']:\n",
    "                    res += row['Percentage per allele']\n",
    "                if starallele == row['Star Allele 2']:  \n",
    "                    res += row['Percentage per allele']\n",
    "                cyp3a5table.at[start,ethnic] = res\n",
    "        #print(start)    \n",
    "        start += 1\n",
    "    cyp3a5table[ethnic] = cyp3a5table[ethnic].round(1)\n",
    "\n",
    "cyp3a5table['KHV'] = cyp3a5table['KHV'].round(1)\n",
    "cyp3a5table.to_csv('frq/cyp3a5.csv')\n",
    "print(cyp3a5table)"
   ]
  },
  {
   "cell_type": "code",
   "execution_count": 8,
   "metadata": {},
   "outputs": [
    {
     "name": "stdout",
     "output_type": "stream",
     "text": [
      "           CEU    CHB     CHS     JPT     SAS     YRI\n",
      "CYP3A5  0.1167  0.001  0.0019  0.0074  0.0005  0.1088\n"
     ]
    }
   ],
   "source": [
    "init = {'CEU': [0], 'CHB': [0], 'CHS': [0], 'JPT': [0], 'SAS': [0], 'YRI': [0]}\n",
    "gst = pd.DataFrame(init, dtype=float)\n",
    "\n",
    "h_s_k = 1.0\n",
    "for index,value in cyp3a5table.iterrows():\n",
    "    h_s_k -= (cyp3a5table.at[index,'KHV']/100) * (cyp3a5table.at[index,'KHV']/100)\n",
    "\n",
    "for idx in range(0,6):\n",
    "    value = 0\n",
    "    h_t = 1.0\n",
    "    h_s = 1.0\n",
    "    for id in range(0,2):\n",
    "        h_t -= ((cyp3a5table.iloc[id,idx + 2] + cyp3a5table.iloc[id,1])/200) * ((cyp3a5table.iloc[id,idx + 2] + cyp3a5table.iloc[id,1])/200)\n",
    "        h_s -= (cyp3a5table.iloc[id,idx + 2]/100) * (cyp3a5table.iloc[id,idx + 2]/100)\n",
    "    h_s = (h_s + h_s_k)/2\n",
    "    gst.iloc[0,idx] = (h_t - h_s)/h_t # You can modify the value here'''\n",
    "gst = gst.round(4)\n",
    "gst.index = ['CYP3A5']\n",
    "gst.to_csv('gst/gst_cyp3a5.csv')\n",
    "print(gst)"
   ]
  },
  {
   "cell_type": "code",
   "execution_count": 9,
   "metadata": {},
   "outputs": [
    {
     "name": "stdout",
     "output_type": "stream",
     "text": [
      "['CYP3A5*1/CYP3A5*1', 'CYP3A5*1/CYP3A5*3', 'CYP3A5*3/CYP3A5*3']\n",
      "['CYP3A5*1/CYP3A5*1', 'CYP3A5*1/CYP3A5*3', 'CYP3A5*3/CYP3A5*3']\n"
     ]
    }
   ],
   "source": [
    "test = list(cyp3a5table['CYP3A5'])\n",
    "test = ['CYP3A5*' + str(int(item)) for item in test]\n",
    "\n",
    "def generate_gene_combinations(alleles):\n",
    "    res = []\n",
    "    length = len(alleles)\n",
    "    for x in range(0,length):\n",
    "        for y in range(x,length):\n",
    "            lol = f'{alleles[x]}/{alleles[y]}'\n",
    "            res.append(lol)\n",
    "\n",
    "    return res\n",
    "\n",
    "print(generate_gene_combinations(test))\n",
    "gene_combinations = generate_gene_combinations(test)\n",
    "\n",
    "degrees_of_freedom = len(gene_combinations) - 1\n",
    "print(gene_combinations)"
   ]
  },
  {
   "cell_type": "code",
   "execution_count": 10,
   "metadata": {},
   "outputs": [
    {
     "name": "stdout",
     "output_type": "stream",
     "text": [
      "                Gene  KHV  CEU  CHB  CHS  JPT  SAS  YRI\n",
      "0  CYP3A5*1/CYP3A5*1  0.0  0.0  0.0  0.0  0.0  0.0  0.0\n",
      "1  CYP3A5*1/CYP3A5*3  0.0  0.0  0.0  0.0  0.0  0.0  0.0\n",
      "2  CYP3A5*3/CYP3A5*3  0.0  0.0  0.0  0.0  0.0  0.0  0.0\n"
     ]
    }
   ],
   "source": [
    "observed = pd.DataFrame(gene_combinations, columns=['Gene'])\n",
    "new_columns = ['KHV', 'CEU', 'CHB', 'CHS', 'JPT', 'SAS', 'YRI']\n",
    "for column in new_columns:\n",
    "    observed[column] = 0.0\n",
    "\n",
    "print(observed)"
   ]
  },
  {
   "cell_type": "code",
   "execution_count": 11,
   "metadata": {},
   "outputs": [
    {
     "name": "stdout",
     "output_type": "stream",
     "text": [
      "                Gene    KHV   CEU   CHB   CHS   JPT    SAS   YRI\n",
      "0  CYP3A5*1/CYP3A5*1   15.0   0.0  12.0   8.0   4.0   59.0  34.0\n",
      "1  CYP3A5*1/CYP3A5*3   85.0   8.0  40.0  40.0  45.0  207.0  22.0\n",
      "2  CYP3A5*3/CYP3A5*3  100.0  89.0  51.0  52.0  55.0  223.0   1.0\n"
     ]
    }
   ],
   "source": [
    "l = len(khv_cyp3a5)\n",
    "for x in range(0,l):\n",
    "    if khv_cyp3a5.iloc[x,1] in gene_combinations:\n",
    "        gene_to_update = khv_cyp3a5.iloc[x,1]\n",
    "        new_value = khv_cyp3a5.iloc[x,2]\n",
    "        observed.loc[observed['Gene'] == gene_to_update, 'KHV'] = new_value\n",
    "\n",
    "length = len(cyp3a5_population)\n",
    "for x in range(0,length):\n",
    "    if cyp3a5_population.iloc[x,1] in gene_combinations:\n",
    "        gene_to_update = cyp3a5_population.iloc[x,1]\n",
    "        pop_to_update = cyp3a5_population.iloc[x,0]\n",
    "        new_value = cyp3a5_population.iloc[x,2]\n",
    "        observed.loc[observed['Gene'] == gene_to_update, pop_to_update ] = new_value \n",
    "\n",
    "for x in range(0,7):\n",
    "    for y in range(0,len(gene_combinations)):\n",
    "        observed.iloc[y,x+1] = observed.iloc[y,x+1] * ((ds[x] * 1.0)/ 100)\n",
    "\n",
    "observed = observed.round(0)\n",
    "print(observed)"
   ]
  },
  {
   "cell_type": "code",
   "execution_count": 12,
   "metadata": {},
   "outputs": [
    {
     "name": "stdout",
     "output_type": "stream",
     "text": [
      "                Gene       KHV       CEU       CHB       CHS       JPT  \\\n",
      "0  CYP3A5*1/CYP3A5*1  0.096721  0.001600  0.096721  0.071289  0.065025   \n",
      "1  CYP3A5*1/CYP3A5*3  0.401812  0.075120  0.428558  0.366324  0.379950   \n",
      "2  CYP3A5*3/CYP3A5*3  0.417316  0.881721  0.474721  0.470596  0.555025   \n",
      "\n",
      "        SAS       YRI  \n",
      "0  0.110224  0.264196  \n",
      "1  0.443552  0.148032  \n",
      "2  0.446224  0.020736  \n"
     ]
    }
   ],
   "source": [
    "hypo = pd.DataFrame(gene_combinations, columns=['Gene'])\n",
    "for column in new_columns:\n",
    "    hypo[column] = 0.0\n",
    "\n",
    "allele = cyp3a5table.iloc[:,0].tolist()\n",
    "\n",
    "for x in range(0,7):\n",
    "    temp = cyp3a5table.iloc[:,x + 1].tolist()\n",
    "    for allele1 in range(0,len(temp)):\n",
    "        for allele2 in range(allele1,len(temp)):\n",
    "            if allele1 == allele2:\n",
    "                new_value = (temp[allele1] / 100) * (temp[allele2] / 100)\n",
    "            elif allele1 != allele2:\n",
    "                new_value = 2 * (temp[allele1] / 100) * (temp[allele2] / 100)\n",
    "            gene = f\"CYP3A5*{int(allele[allele1])}/CYP3A5*{int(allele[allele2])}\"\n",
    "            \n",
    "            row_index = hypo.index[hypo['Gene'] == gene].tolist()[0]\n",
    "            hypo.iloc[row_index, x+1] = new_value\n",
    "\n",
    "print(hypo)"
   ]
  },
  {
   "cell_type": "code",
   "execution_count": 13,
   "metadata": {},
   "outputs": [
    {
     "name": "stdout",
     "output_type": "stream",
     "text": [
      "                Gene   KHV   CEU   CHB   CHS   JPT    SAS   YRI\n",
      "0  CYP3A5*1/CYP3A5*1  20.0   1.0  10.0   7.0   7.0   54.0  29.0\n",
      "1  CYP3A5*1/CYP3A5*3  83.0   7.0  44.0  38.0  40.0  217.0  16.0\n",
      "2  CYP3A5*3/CYP3A5*3  86.0  87.0  49.0  49.0  58.0  218.0   2.0\n"
     ]
    }
   ],
   "source": [
    "for x in range(0,7):\n",
    "    for y in range(0,len(gene_combinations)):\n",
    "        hypo.iloc[y,x+1] = hypo.iloc[y,x+1] * ((ds[x] * 1.0))\n",
    "        if hypo.iloc[y,x+1] < 1:\n",
    "            hypo.iloc[y,x+1] = 1\n",
    "hypo = hypo.round(0)\n",
    "print(hypo)"
   ]
  },
  {
   "cell_type": "code",
   "execution_count": 14,
   "metadata": {},
   "outputs": [
    {
     "name": "stdout",
     "output_type": "stream",
     "text": [
      "   KHV  CEU  CHB  CHS  JPT  SAS  YRI\n",
      "0  0.0  0.0  0.0  0.0  0.0  0.0  0.0\n",
      "           KHV     CEU     CHB     CHS    JPT    SAS     YRI\n",
      "CYP3A5  0.1672  0.5519  0.6553  0.8058  0.356  0.595  0.1643\n"
     ]
    }
   ],
   "source": [
    "hihi = {\"KHV\": [0.0], \"CEU\": [0.0], \"CHB\": [0.0], \"CHS\": [0.0], \"JPT\": [0.0], \"SAS\": [0.0], \"YRI\": [0.0]}\n",
    "chi_square = pd.DataFrame(hihi)\n",
    "print(chi_square)\n",
    "for x in range(0,7):\n",
    "    res = 0\n",
    "    for y in range(0,len(hypo)):\n",
    "        chi_square_value = ((hypo.iloc[y,x+1] - observed.iloc[y,x+1]) * (hypo.iloc[y,x+1] - observed.iloc[y,x+1])) / (hypo.iloc[y,x+1])\n",
    "        res += chi_square_value\n",
    "\n",
    "    p_value = 1 - stats.chi2.cdf(res, degrees_of_freedom)\n",
    "    chi_square.iloc[0,x] = p_value \n",
    "\n",
    "chi_square.index = ['CYP3A5']\n",
    "chi_square = chi_square.round(4)\n",
    "print(chi_square)"
   ]
  },
  {
   "cell_type": "code",
   "execution_count": null,
   "metadata": {},
   "outputs": [],
   "source": [
    "print(cyp3a5table)\n",
    "def f(row):\n",
    "    return \"CYP3A5*\" + str(row)\n",
    "cyp3a5table[\"CYP3A5\"] = cyp3a5table[\"CYP3A5\"].apply(f)\n",
    "cyp3a5table.rename(columns={\"CYP3A5\": \"Gene\"}, inplace=True)\n",
    "cyp3a5table.to_excel(\"heatmap/cyp3a5table.xlsx\")"
   ]
  }
 ],
 "metadata": {
  "kernelspec": {
   "display_name": "Python 3",
   "language": "python",
   "name": "python3"
  },
  "language_info": {
   "codemirror_mode": {
    "name": "ipython",
    "version": 3
   },
   "file_extension": ".py",
   "mimetype": "text/x-python",
   "name": "python",
   "nbconvert_exporter": "python",
   "pygments_lexer": "ipython3",
   "version": "3.10.11"
  },
  "orig_nbformat": 4
 },
 "nbformat": 4,
 "nbformat_minor": 2
}
