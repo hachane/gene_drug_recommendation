{
 "cells": [
  {
   "cell_type": "code",
   "execution_count": 1,
   "metadata": {},
   "outputs": [],
   "source": [
    "import numpy as np\n",
    "import pandas as pd\n",
    "from itertools import combinations_with_replacement\n",
    "from scipy.stats import chi2\n",
    "import scipy.stats as stats\n",
    "ds = [206,99,103,105,104,489,108]"
   ]
  },
  {
   "cell_type": "code",
   "execution_count": 2,
   "metadata": {},
   "outputs": [
    {
     "name": "stdout",
     "output_type": "stream",
     "text": [
      "{1, 2, 3}\n"
     ]
    }
   ],
   "source": [
    "df = pd.read_excel('df.xlsx')\n",
    "\n",
    "# Filter to just KHV rows\n",
    "khv = df[df['Ethnic'] == 'KHV206g'] \n",
    "\n",
    "# Filter to just CYP2B6 rows\n",
    "cyp4f2 = khv[khv['Gene'] == 'CYP4F2']\n",
    "\n",
    "# Get unique CYP2B6 alleles \n",
    "cyp4f2_alleles = set(cyp4f2['Star Allele 1'].unique()) | set(cyp4f2['Star Allele 2'].unique())\n",
    "\n",
    "print(cyp4f2_alleles)"
   ]
  },
  {
   "cell_type": "code",
   "execution_count": 3,
   "metadata": {},
   "outputs": [
    {
     "name": "stdout",
     "output_type": "stream",
     "text": [
      "[1, 2, 3]\n",
      "   CYP4F2  KHV\n",
      "0       1  0.0\n",
      "1       2  0.0\n",
      "2       3  0.0\n"
     ]
    }
   ],
   "source": [
    "cyp4f2_alleles = list(cyp4f2_alleles)\n",
    "cyp4f2_alleles = [x for x in cyp4f2_alleles if str(x) != 'nan']\n",
    "\n",
    "print(cyp4f2_alleles)\n",
    "\n",
    "\n",
    "cyp4f2table = pd.DataFrame(cyp4f2_alleles, columns=['CYP4F2'])\n",
    "cyp4f2table['KHV'] = 0.0\n",
    "print(cyp4f2table)"
   ]
  },
  {
   "cell_type": "code",
   "execution_count": 4,
   "metadata": {},
   "outputs": [
    {
     "name": "stdout",
     "output_type": "stream",
     "text": [
      "      Ethnic            Alleles  Percentage    Gene  Star Allele 1  \\\n",
      "447  KHV206g  CYP4F2*1/CYP4F2*1      62.140  CYP4F2              1   \n",
      "448  KHV206g  CYP4F2*1/CYP4F2*2       9.223  CYP4F2              1   \n",
      "449  KHV206g  CYP4F2*1/CYP4F2*3      20.870  CYP4F2              1   \n",
      "450  KHV206g  CYP4F2*2/CYP4F2*3       2.427  CYP4F2              2   \n",
      "451  KHV206g  CYP4F2*3/CYP4F2*3       3.398  CYP4F2              3   \n",
      "\n",
      "     Star Allele 2  Percentage per allele  \n",
      "447              1                31.0700  \n",
      "448              2                 4.6115  \n",
      "449              3                10.4350  \n",
      "450              3                 1.2135  \n",
      "451              3                 1.6990  \n",
      "   CYP4F2      KHV\n",
      "0       1  77.1865\n",
      "1       2   5.8250\n",
      "2       3  15.0465\n"
     ]
    }
   ],
   "source": [
    "khv_cyp4f2 = df.query(\"Ethnic == 'KHV206g' & Gene == 'CYP4F2'\")\n",
    "\n",
    "print(khv_cyp4f2)\n",
    "start = 0\n",
    "for allele in cyp4f2_alleles:\n",
    "  res = 0\n",
    "  for index, row in khv_cyp4f2.iterrows():\n",
    "    if allele == row['Star Allele 1']:\n",
    "      res += row['Percentage per allele']\n",
    "    if allele == row['Star Allele 2']:  \n",
    "      res += row['Percentage per allele']\n",
    "  cyp4f2table.at[start,'KHV'] = res\n",
    "  start += 1\n",
    "\n",
    "\n",
    "to_drop = cyp4f2table[cyp4f2table['KHV'] < 1]\n",
    "\n",
    "# Drop those rows by index\n",
    "cyp4f2table.drop(index=to_drop.index, inplace=True)\n",
    "# Divide by 100  \n",
    "print(cyp4f2table)"
   ]
  },
  {
   "cell_type": "code",
   "execution_count": 5,
   "metadata": {},
   "outputs": [
    {
     "name": "stdout",
     "output_type": "stream",
     "text": [
      "['CEU' 'CHB' 'CHS' 'JPT' 'SAS' 'YRI']\n",
      "    Ethnic            Alleles  Percentage    Gene  Star Allele 1  \\\n",
      "356    CEU  CYP4F2*1/CYP4F2*1     58.5900  CYP4F2              1   \n",
      "357    CEU  CYP4F2*1/CYP4F2*2     19.1900  CYP4F2              1   \n",
      "358    CEU  CYP4F2*1/CYP4F2*3     14.1400  CYP4F2              1   \n",
      "359    CEU  CYP4F2*2/CYP4F2*2      2.0200  CYP4F2              2   \n",
      "360    CEU  CYP4F2*2/CYP4F2*3      5.0510  CYP4F2              2   \n",
      "361    CEU  CYP4F2*3/CYP4F2*3      1.0100  CYP4F2              3   \n",
      "362    CHB  CYP4F2*1/CYP4F2*1     60.1900  CYP4F2              1   \n",
      "363    CHB  CYP4F2*1/CYP4F2*2     13.5900  CYP4F2              1   \n",
      "364    CHB  CYP4F2*1/CYP4F2*3     22.3300  CYP4F2              1   \n",
      "365    CHB  CYP4F2*2/CYP4F2*3      2.9130  CYP4F2              2   \n",
      "366    CHB  CYP4F2*3/CYP4F2*3      0.9709  CYP4F2              3   \n",
      "367    CHS  CYP4F2*1/CYP4F2*1     62.8600  CYP4F2              1   \n",
      "368    CHS  CYP4F2*1/CYP4F2*2     11.4300  CYP4F2              1   \n",
      "369    CHS  CYP4F2*1/CYP4F2*3     22.8600  CYP4F2              1   \n",
      "370    CHS  CYP4F2*2/CYP4F2*3      1.9050  CYP4F2              2   \n",
      "371    CHS  CYP4F2*3/CYP4F2*3      0.9524  CYP4F2              3   \n",
      "372    KHV  CYP4F2*1/CYP4F2*1     62.6300  CYP4F2              1   \n",
      "373    KHV  CYP4F2*1/CYP4F2*2      6.0610  CYP4F2              1   \n",
      "374    KHV  CYP4F2*1/CYP4F2*3     24.2400  CYP4F2              1   \n",
      "375    KHV  CYP4F2*2/CYP4F2*3      1.0100  CYP4F2              2   \n",
      "376    KHV  CYP4F2*3/CYP4F2*3      6.0610  CYP4F2              3   \n",
      "377    JPT  CYP4F2*1/CYP4F2*1     63.4600  CYP4F2              1   \n",
      "378    JPT  CYP4F2*1/CYP4F2*2      4.8080  CYP4F2              1   \n",
      "379    JPT  CYP4F2*1/CYP4F2*3     22.1200  CYP4F2              1   \n",
      "380    JPT  CYP4F2*2/CYP4F2*2      1.9230  CYP4F2              2   \n",
      "381    JPT  CYP4F2*2/CYP4F2*3      2.8850  CYP4F2              2   \n",
      "382    JPT  CYP4F2*3/CYP4F2*3      4.8080  CYP4F2              3   \n",
      "383    SAS  CYP4F2*1/CYP4F2*1     35.1700  CYP4F2              1   \n",
      "384    SAS  CYP4F2*1/CYP4F2*2     16.5600  CYP4F2              1   \n",
      "385    SAS  CYP4F2*1/CYP4F2*3     29.2400  CYP4F2              1   \n",
      "386    SAS  CYP4F2*2/CYP4F2*2      2.2490  CYP4F2              2   \n",
      "387    SAS  CYP4F2*2/CYP4F2*3      7.1570  CYP4F2              2   \n",
      "388    SAS  CYP4F2*3/CYP4F2*3      8.7930  CYP4F2              3   \n",
      "389    YRI  CYP4F2*1/CYP4F2*1     50.9300  CYP4F2              1   \n",
      "390    YRI  CYP4F2*1/CYP4F2*2      5.5560  CYP4F2              1   \n",
      "391    YRI  CYP4F2*1/CYP4F2*3      1.8520  CYP4F2              1   \n",
      "392    YRI  CYP4F2*2/CYP4F2*3      0.9259  CYP4F2              2   \n",
      "\n",
      "     Star Allele 2  Percentage per allele  \n",
      "356              1               29.29500  \n",
      "357              2                9.59500  \n",
      "358              3                7.07000  \n",
      "359              2                1.01000  \n",
      "360              3                2.52550  \n",
      "361              3                0.50500  \n",
      "362              1               30.09500  \n",
      "363              2                6.79500  \n",
      "364              3               11.16500  \n",
      "365              3                1.45650  \n",
      "366              3                0.48545  \n",
      "367              1               31.43000  \n",
      "368              2                5.71500  \n",
      "369              3               11.43000  \n",
      "370              3                0.95250  \n",
      "371              3                0.47620  \n",
      "372              1               31.31500  \n",
      "373              2                3.03050  \n",
      "374              3               12.12000  \n",
      "375              3                0.50500  \n",
      "376              3                3.03050  \n",
      "377              1               31.73000  \n",
      "378              2                2.40400  \n",
      "379              3               11.06000  \n",
      "380              2                0.96150  \n",
      "381              3                1.44250  \n",
      "382              3                2.40400  \n",
      "383              1               17.58500  \n",
      "384              2                8.28000  \n",
      "385              3               14.62000  \n",
      "386              2                1.12450  \n",
      "387              3                3.57850  \n",
      "388              3                4.39650  \n",
      "389              1               25.46500  \n",
      "390              2                2.77800  \n",
      "391              3                0.92600  \n",
      "392              3                0.46295  \n"
     ]
    }
   ],
   "source": [
    "temp = cyp4f2table['CYP4F2'].values.tolist()\n",
    "\n",
    "ethnics = df['Ethnic'].unique()\n",
    "ethnics =np.delete(ethnics, -1)\n",
    "value_to_delete = 'KHV'\n",
    "idx = np.where(ethnics == value_to_delete)[0][0]\n",
    "ethnics = np.delete(ethnics, idx)\n",
    "print(ethnics)\n",
    "\n",
    "\n",
    "cyp4f2_rows = df[df['Gene'] == 'CYP4F2']\n",
    "\n",
    "# Create bool series to check if allele in temp\n",
    "allele1_matches = cyp4f2_rows['Star Allele 1'].isin(temp)\n",
    "allele2_matches = cyp4f2_rows['Star Allele 2'].isin(temp)\n",
    "\n",
    "# Filter for rows where either allele matches \n",
    "mask = allele1_matches | allele2_matches\n",
    "cyp4f2_population = cyp4f2_rows[mask]\n",
    "cyp4f2_population = cyp4f2_population[cyp4f2_population['Ethnic'] != 'KHV206g']\n",
    "\n",
    "print(cyp4f2_population)#print(temp)"
   ]
  },
  {
   "cell_type": "code",
   "execution_count": 6,
   "metadata": {},
   "outputs": [
    {
     "name": "stdout",
     "output_type": "stream",
     "text": [
      "   CYP4F2      KHV  CEU  CHB  CHS  JPT  SAS  YRI\n",
      "0       1  77.1865  0.0  0.0  0.0  0.0  0.0  0.0\n",
      "1       2   5.8250  0.0  0.0  0.0  0.0  0.0  0.0\n",
      "2       3  15.0465  0.0  0.0  0.0  0.0  0.0  0.0\n"
     ]
    }
   ],
   "source": [
    "for ethnic in ethnics:\n",
    "        cyp4f2table[ethnic] = 0.0\n",
    "\n",
    "cyp4f2table = cyp4f2table.reset_index(drop=True)\n",
    "\n",
    "print(cyp4f2table)"
   ]
  },
  {
   "cell_type": "code",
   "execution_count": 7,
   "metadata": {},
   "outputs": [
    {
     "name": "stdout",
     "output_type": "stream",
     "text": [
      "   CYP4F2   KHV   CEU   CHB   CHS   JPT   SAS   YRI\n",
      "0       1  77.2  75.3  78.2  80.0  76.9  58.1  54.6\n",
      "1       2   5.8  14.1   8.3   6.7   5.8  14.1   3.2\n",
      "2       3  15.0  10.6  13.6  13.3  17.3  27.0   1.4\n"
     ]
    }
   ],
   "source": [
    "start = 0\n",
    "for ethnic in ethnics:\n",
    "    start = 0\n",
    "    for starallele in temp:\n",
    "        res = 0\n",
    "\n",
    "        for index, row in cyp4f2_population.iterrows():\n",
    "            if row['Ethnic'] == ethnic:\n",
    "                if starallele == row['Star Allele 1']:\n",
    "                    res += row['Percentage per allele']\n",
    "                if starallele == row['Star Allele 2']:  \n",
    "                    res += row['Percentage per allele']\n",
    "                cyp4f2table.at[start,ethnic] = res\n",
    "        #print(start)    \n",
    "        start += 1\n",
    "    cyp4f2table[ethnic] = cyp4f2table[ethnic].round(1)\n",
    "\n",
    "cyp4f2table['KHV'] = cyp4f2table['KHV'].round(1)\n",
    "cyp4f2table.to_csv('frq/cyp4f2.csv')\n",
    "print(cyp4f2table)"
   ]
  },
  {
   "cell_type": "code",
   "execution_count": 8,
   "metadata": {},
   "outputs": [
    {
     "name": "stdout",
     "output_type": "stream",
     "text": [
      "           CEU     CHB     CHS     JPT     SAS     YRI\n",
      "CYP4F2  0.0059  0.0006  0.0008  0.0004  0.0296  0.0315\n"
     ]
    }
   ],
   "source": [
    "init = {'CEU': [0], 'CHB': [0], 'CHS': [0], 'JPT': [0], 'SAS': [0], 'YRI': [0]}\n",
    "gst = pd.DataFrame(init, dtype=float)\n",
    "\n",
    "h_s_k = 1.0\n",
    "for index,value in cyp4f2table.iterrows():\n",
    "    h_s_k -= (cyp4f2table.at[index,'KHV']/100) * (cyp4f2table.at[index,'KHV']/100)\n",
    "\n",
    "for idx in range(0,6):\n",
    "    value = 0\n",
    "    h_t = 1.0\n",
    "    h_s = 1.0\n",
    "    for id in range(0,3):\n",
    "        h_t -= ((cyp4f2table.iloc[id,idx + 2] + cyp4f2table.iloc[id,1])/200) * ((cyp4f2table.iloc[id,idx + 2] + cyp4f2table.iloc[id,1])/200)\n",
    "        h_s -= (cyp4f2table.iloc[id,idx + 2]/100) * (cyp4f2table.iloc[id,idx + 2]/100)\n",
    "    h_s = (h_s + h_s_k)/2\n",
    "    gst.iloc[0,idx] = (h_t - h_s)/h_t # You can modify the value here'''\n",
    "gst = gst.round(4)\n",
    "gst.index = ['CYP4F2']\n",
    "gst.to_csv('gst/gst_cyp4f2.csv')\n",
    "print(gst)"
   ]
  },
  {
   "cell_type": "code",
   "execution_count": 9,
   "metadata": {},
   "outputs": [
    {
     "name": "stdout",
     "output_type": "stream",
     "text": [
      "['CYP4F2*1/CYP4F2*1', 'CYP4F2*1/CYP4F2*2', 'CYP4F2*1/CYP4F2*3', 'CYP4F2*2/CYP4F2*2', 'CYP4F2*2/CYP4F2*3', 'CYP4F2*3/CYP4F2*3']\n"
     ]
    }
   ],
   "source": [
    "test = list(cyp4f2table['CYP4F2'])\n",
    "test = ['CYP4F2*' + str(int(item)) for item in test]\n",
    "\n",
    "def generate_gene_combinations(alleles):\n",
    "    combinations = list(combinations_with_replacement(alleles, 2))\n",
    "    sorted_combinations = [\"/\".join(sorted(comb)) for comb in combinations]\n",
    "    return sorted_combinations\n",
    "\n",
    "gene_combinations = generate_gene_combinations(test)\n",
    "degrees_of_freedom = len(gene_combinations) - 1\n",
    "print(gene_combinations)\n"
   ]
  },
  {
   "cell_type": "code",
   "execution_count": 10,
   "metadata": {},
   "outputs": [
    {
     "name": "stdout",
     "output_type": "stream",
     "text": [
      "                Gene  KHV  CEU  CHB  CHS  JPT  SAS  YRI\n",
      "0  CYP4F2*1/CYP4F2*1  0.0  0.0  0.0  0.0  0.0  0.0  0.0\n",
      "1  CYP4F2*1/CYP4F2*2  0.0  0.0  0.0  0.0  0.0  0.0  0.0\n",
      "2  CYP4F2*1/CYP4F2*3  0.0  0.0  0.0  0.0  0.0  0.0  0.0\n",
      "3  CYP4F2*2/CYP4F2*2  0.0  0.0  0.0  0.0  0.0  0.0  0.0\n",
      "4  CYP4F2*2/CYP4F2*3  0.0  0.0  0.0  0.0  0.0  0.0  0.0\n",
      "5  CYP4F2*3/CYP4F2*3  0.0  0.0  0.0  0.0  0.0  0.0  0.0\n"
     ]
    }
   ],
   "source": [
    "observed = pd.DataFrame(gene_combinations, columns=['Gene'])\n",
    "new_columns = ['KHV', 'CEU', 'CHB', 'CHS', 'JPT', 'SAS', 'YRI']\n",
    "for column in new_columns:\n",
    "    observed[column] = 0.0\n",
    "\n",
    "print(observed)"
   ]
  },
  {
   "cell_type": "code",
   "execution_count": 11,
   "metadata": {},
   "outputs": [
    {
     "name": "stdout",
     "output_type": "stream",
     "text": [
      "                Gene        KHV       CEU        CHB       CHS       JPT  \\\n",
      "0  CYP4F2*1/CYP4F2*1  129.01780  58.00410  61.995700  66.00300  65.99840   \n",
      "1  CYP4F2*1/CYP4F2*2   12.48566  18.99810  13.997700  12.00150   5.00032   \n",
      "2  CYP4F2*1/CYP4F2*3   49.93440  13.99860  22.999900  24.00300  23.00480   \n",
      "3  CYP4F2*2/CYP4F2*2    0.00000   1.99980   0.000000   0.00000   1.99992   \n",
      "4  CYP4F2*2/CYP4F2*3    2.08060   5.00049   3.000390   2.00025   3.00040   \n",
      "5  CYP4F2*3/CYP4F2*3   12.48566   0.99990   1.000027   1.00002   5.00032   \n",
      "\n",
      "         SAS        YRI  \n",
      "0  171.98130  55.004400  \n",
      "1   80.97840   6.000480  \n",
      "2  142.98360   2.000160  \n",
      "3   10.99761   0.000000  \n",
      "4   34.99773   0.999972  \n",
      "5   42.99777   0.000000  \n"
     ]
    }
   ],
   "source": [
    "l = len(khv_cyp4f2)\n",
    "for x in range(0,l):\n",
    "    if khv_cyp4f2.iloc[x,1] in gene_combinations:\n",
    "        gene_to_update = khv_cyp4f2.iloc[x,1]\n",
    "        new_value = khv_cyp4f2.iloc[x,2]\n",
    "        observed.loc[observed['Gene'] == gene_to_update, 'KHV'] = new_value\n",
    "\n",
    "length = len(cyp4f2_population)\n",
    "for x in range(0,length):\n",
    "    if cyp4f2_population.iloc[x,1] in gene_combinations:\n",
    "        gene_to_update = cyp4f2_population.iloc[x,1]\n",
    "        pop_to_update = cyp4f2_population.iloc[x,0]\n",
    "        new_value = cyp4f2_population.iloc[x,2]\n",
    "        observed.loc[observed['Gene'] == gene_to_update, pop_to_update ] = new_value \n",
    "\n",
    "for x in range(0,7):\n",
    "    for y in range(0,len(gene_combinations)):\n",
    "        observed.iloc[y,x+1] = observed.iloc[y,x+1] * ((ds[x] * 1.0)/ 100)\n",
    "\n",
    "print(observed)"
   ]
  },
  {
   "cell_type": "code",
   "execution_count": 12,
   "metadata": {},
   "outputs": [
    {
     "name": "stdout",
     "output_type": "stream",
     "text": [
      "                Gene       KHV       CEU       CHB       CHS       JPT  \\\n",
      "0  CYP4F2*1/CYP4F2*1  0.595984  0.567009  0.611524  0.640000  0.591361   \n",
      "1  CYP4F2*1/CYP4F2*2  0.089552  0.212346  0.129812  0.107200  0.089204   \n",
      "2  CYP4F2*1/CYP4F2*3  0.231600  0.159636  0.212704  0.212800  0.266074   \n",
      "3  CYP4F2*2/CYP4F2*2  0.003364  0.019881  0.006889  0.004489  0.003364   \n",
      "4  CYP4F2*2/CYP4F2*3  0.017400  0.029892  0.022576  0.017822  0.020068   \n",
      "5  CYP4F2*3/CYP4F2*3  0.022500  0.011236  0.018496  0.017689  0.029929   \n",
      "\n",
      "        SAS       YRI  \n",
      "0  0.337561  0.298116  \n",
      "1  0.163842  0.034944  \n",
      "2  0.313740  0.015288  \n",
      "3  0.019881  0.001024  \n",
      "4  0.076140  0.000896  \n",
      "5  0.072900  0.000196  \n"
     ]
    }
   ],
   "source": [
    "hypo = pd.DataFrame(gene_combinations, columns=['Gene'])\n",
    "for column in new_columns:\n",
    "    hypo[column] = 0.0\n",
    "\n",
    "allele = cyp4f2table.iloc[:,0].tolist()\n",
    "\n",
    "for x in range(0,7):\n",
    "    temp = cyp4f2table.iloc[:,x + 1].tolist()\n",
    "    for allele1 in range(0,len(temp)):\n",
    "        for allele2 in range(allele1,len(temp)):\n",
    "            if allele1 == allele2:\n",
    "                new_value = (temp[allele1] / 100) * (temp[allele2] / 100)\n",
    "            elif allele1 != allele2:\n",
    "                new_value = 2 * (temp[allele1] / 100) * (temp[allele2] / 100)\n",
    "            gene = f\"CYP4F2*{int(allele[allele1])}/CYP4F2*{int(allele[allele2])}\"\n",
    "            row_index = hypo.index[hypo['Gene'] == gene].tolist()[0]\n",
    "            hypo.iloc[row_index, x+1] = new_value \n",
    "\n",
    "print(hypo)"
   ]
  },
  {
   "cell_type": "code",
   "execution_count": 13,
   "metadata": {},
   "outputs": [
    {
     "name": "stdout",
     "output_type": "stream",
     "text": [
      "   CYP4F2   KHV   CEU   CHB   CHS   JPT   SAS   YRI\n",
      "0       1  77.2  75.3  78.2  80.0  76.9  58.1  54.6\n",
      "1       2   5.8  14.1   8.3   6.7   5.8  14.1   3.2\n",
      "2       3  15.0  10.6  13.6  13.3  17.3  27.0   1.4\n"
     ]
    }
   ],
   "source": [
    "print(cyp4f2table)\n",
    "def f(row):\n",
    "    return \"CYP4F2*\" + str(row)\n",
    "cyp4f2table[\"CYP4F2\"] = cyp4f2table[\"CYP4F2\"].apply(f)\n",
    "cyp4f2table.rename(columns={\"CYP4F2\": \"Gene\"}, inplace=True)\n",
    "cyp4f2table.to_excel(\"heatmap/cyp4f2table.xlsx\")"
   ]
  },
  {
   "cell_type": "code",
   "execution_count": 14,
   "metadata": {},
   "outputs": [
    {
     "name": "stdout",
     "output_type": "stream",
     "text": [
      "        0     1     2\n",
      "KHV  77.2   5.8  15.0\n",
      "CEU  75.3  14.1  10.6\n",
      "CHB  78.2   8.3  13.6\n",
      "CHS  80.0   6.7  13.3\n",
      "JPT  76.9   5.8  17.3\n",
      "SAS  58.1  14.1  27.0\n",
      "YRI  54.6   3.2   1.4\n",
      "[[ 0.59068008 -0.63181311  0.13701827]\n",
      " [ 0.39476873  1.4778617  -0.48359388]\n",
      " [ 0.69379132  0.00363111 -0.06044924]\n",
      " [ 0.87939154 -0.40305319 -0.1027637 ]\n",
      " [ 0.55974671 -0.63181311  0.46142916]\n",
      " [-1.37874453  1.4778617   1.82959686]\n",
      " [-1.73963386 -1.2926751  -1.78123747]]\n",
      "Explained Variance for PC1: 0.52\n",
      "Explained Variance for PC2: 0.34\n"
     ]
    },
    {
     "data": {
      "image/png": "[encoded data removed]",
      "text/plain": [
       "<Figure size 1000x600 with 1 Axes>"
      ]
     },
     "metadata": {},
     "output_type": "display_data"
    }
   ],
   "source": [
    "import pandas as pd\n",
    "import numpy as np\n",
    "import matplotlib.pyplot as plt\n",
    "\n",
    "cyp4f2table_copy = cyp4f2table\n",
    "cols = cyp4f2table_copy.iloc[:,0].tolist()\n",
    "cyp4f2table_copy = cyp4f2table_copy.transpose()\n",
    "cyp4f2table_copy.drop(index=cyp4f2table_copy.index[0], axis=0, inplace=True)\n",
    "print(cyp4f2table_copy)\n",
    "\n",
    "df = cyp4f2table_copy\n",
    "\n",
    "index = list(df.index)\n",
    "\n",
    "# Standardize the data\n",
    "from sklearn.preprocessing import StandardScaler\n",
    "\n",
    "scaler = StandardScaler()\n",
    "scaled_data = scaler.fit_transform(df)\n",
    "print(scaled_data)\n",
    "# Perform PCA\n",
    "from sklearn.decomposition import PCA\n",
    "\n",
    "pca = PCA(n_components=2)\n",
    "principal_components = pca.fit_transform(scaled_data)\n",
    "\n",
    "# Create a scatter plot with labels\n",
    "plt.figure(figsize=(10, 6))\n",
    "plt.scatter(principal_components[:, 0], principal_components[:, 1])\n",
    "explained_variance_ratio = pca.explained_variance_ratio_\n",
    "for i, ratio in enumerate(explained_variance_ratio):\n",
    "    print(f\"Explained Variance for PC{i + 1}: {ratio:.2f}\")\n",
    "\n",
    "# Add labels for each point\n",
    "for label, x, y in zip(index, principal_components[:, 0], principal_components[:, 1]):\n",
    "    plt.annotate(label, (x, y), textcoords=\"offset points\", xytext=(0, 10), ha=\"center\")\n",
    "\n",
    "plt.xlabel(\"Principal Component 1\")\n",
    "plt.ylabel(\"Principal Component 2\")\n",
    "plt.title(\"PCA Scatter Plot\")\n",
    "plt.grid()\n",
    "plt.show()"
   ]
  }
 ],
 "metadata": {
  "kernelspec": {
   "display_name": "Python 3",
   "language": "python",
   "name": "python3"
  },
  "language_info": {
   "codemirror_mode": {
    "name": "ipython",
    "version": 3
   },
   "file_extension": ".py",
   "mimetype": "text/x-python",
   "name": "python",
   "nbconvert_exporter": "python",
   "pygments_lexer": "ipython3",
   "version": "3.10.11"
  },
  "orig_nbformat": 4
 },
 "nbformat": 4,
 "nbformat_minor": 2
}
