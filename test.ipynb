{
 "cells": [
  {
   "cell_type": "code",
   "execution_count": 4,
   "metadata": {},
   "outputs": [],
   "source": [
    "import numpy as np\n",
    "import pandas as pd\n",
    "from itertools import combinations_with_replacement\n",
    "from scipy.stats import chi2\n",
    "import scipy.stats as stats\n",
    "\n",
    "def pchisq(hwx, df):\n",
    "  return 1 - stats.chi2.cdf(hwx, df)"
   ]
  },
  {
   "cell_type": "code",
   "execution_count": 5,
   "metadata": {},
   "outputs": [
    {
     "name": "stdout",
     "output_type": "stream",
     "text": [
      "['CEU' 'CHB' 'CHS' 'JPT' 'SAS' 'YRI' 'KHV206g']\n",
      "      Ethnic    Gene Allele      Freq\n",
      "0        CEU  CYP2B6      1  55.04600\n",
      "1        CEU  CYP2B6      2   4.04050\n",
      "2        CEU  CYP2B6      5   9.59600\n",
      "3        CEU  CYP2B6      6  26.76650\n",
      "4        CEU  CYP2B6     11   0.50500\n",
      "..       ...     ...    ...       ...\n",
      "226      YRI  CYP4F2      2   3.24095\n",
      "227      YRI  CYP4F2      3   1.38895\n",
      "228  KHV206g  CYP4F2      1  77.18650\n",
      "229  KHV206g  CYP4F2      2   5.82500\n",
      "230  KHV206g  CYP4F2      3  15.04650\n",
      "\n",
      "[231 rows x 4 columns]\n"
     ]
    }
   ],
   "source": [
    "df = pd.read_excel('df.xlsx')\n",
    "pops = df['Ethnic'].unique()\n",
    "genes = df['Gene'].unique()\n",
    "pops = pops[pops != 'KHV']\n",
    "print(pops)\n",
    "frq = pd.DataFrame(columns = ['Ethnic', 'Gene', 'Allele', 'Freq'])\n",
    "frq['Freq'] = 0.0\n",
    "\n",
    "start = 0\n",
    "for gene in genes:\n",
    "    for pop in pops:\n",
    "        temp = df.query(f\"Ethnic == '{pop}' & Gene == '{gene}'\")\n",
    "        cyp4f2_alleles = set(temp['Star Allele 1'].unique()) | set(temp['Star Allele 2'].unique())\n",
    "        cyp4f2_alleles = list(cyp4f2_alleles)\n",
    "        cyp4f2_alleles = [x for x in cyp4f2_alleles if str(x) != 'nan']  \n",
    "\n",
    "        for allele in cyp4f2_alleles:\n",
    "            res = 0\n",
    "            for index, row in temp.iterrows():\n",
    "                if allele == row['Star Allele 1']:\n",
    "                    res += row['Percentage per allele']\n",
    "                if allele == row['Star Allele 2']:  \n",
    "                    res += row['Percentage per allele']\n",
    "            frq.loc[start,'Freq'] = res\n",
    "            frq.loc[start, 'Ethnic'] = pop\n",
    "            frq.loc[start, 'Gene'] = gene\n",
    "            frq.loc[start, 'Allele'] = allele \n",
    "            start += 1\n",
    "\n",
    "print(frq)"
   ]
  },
  {
   "cell_type": "code",
   "execution_count": 6,
   "metadata": {},
   "outputs": [
    {
     "name": "stdout",
     "output_type": "stream",
     "text": [
      "      Ethnic             Alleles  Percentage    Gene  Star Allele 1  \\\n",
      "0        CEU   CYP2B6*1/CYP2B6*1      32.320  CYP2B6              1   \n",
      "1        CEU  CYP2B6*1/CYP2B6*11       1.010  CYP2B6              1   \n",
      "2        CEU  CYP2B6*1/CYP2B6*15       1.010  CYP2B6              1   \n",
      "3        CEU   CYP2B6*1/CYP2B6*2       5.051  CYP2B6              1   \n",
      "4        CEU  CYP2B6*1/CYP2B6*22       1.010  CYP2B6              1   \n",
      "..       ...                 ...         ...     ...            ...   \n",
      "447  KHV206g   CYP4F2*1/CYP4F2*1      62.140  CYP4F2              1   \n",
      "448  KHV206g   CYP4F2*1/CYP4F2*2       9.223  CYP4F2              1   \n",
      "449  KHV206g   CYP4F2*1/CYP4F2*3      20.870  CYP4F2              1   \n",
      "450  KHV206g   CYP4F2*2/CYP4F2*3       2.427  CYP4F2              2   \n",
      "451  KHV206g   CYP4F2*3/CYP4F2*3       3.398  CYP4F2              3   \n",
      "\n",
      "     Star Allele 2  Percentage per allele       A1       A2          E  \\\n",
      "0                1                16.1600  55.0460  55.0460  30.300621   \n",
      "1               11                 0.5050  55.0460   0.5050   0.555965   \n",
      "2               15                 0.5050  55.0460   1.5150   1.667894   \n",
      "3                2                 2.5255  55.0460   4.0405   4.448267   \n",
      "4               22                 0.5050  55.0460   1.0100   1.111929   \n",
      "..             ...                    ...      ...      ...        ...   \n",
      "447              1                31.0700  77.1865  77.1865  59.577558   \n",
      "448              2                 4.6115  77.1865   5.8250   8.992227   \n",
      "449              3                10.4350  77.1865  15.0465  23.227733   \n",
      "450              3                 1.2135   5.8250  15.0465   1.752917   \n",
      "451              3                 1.6990  15.0465  15.0465   2.263972   \n",
      "\n",
      "           X2  \n",
      "0    0.134581  \n",
      "1    0.370794  \n",
      "2    0.259503  \n",
      "3    0.081669  \n",
      "4    0.009344  \n",
      "..        ...  \n",
      "447  0.110211  \n",
      "448  0.005922  \n",
      "449  0.239322  \n",
      "450  0.259218  \n",
      "451  0.568037  \n",
      "\n",
      "[452 rows x 11 columns]\n"
     ]
    }
   ],
   "source": [
    "df['A1'] = 0.0\n",
    "df['A2'] = 0.0\n",
    "df['E'] = 0.0\n",
    "df['X2']= 0.0\n",
    "\n",
    "for idx in range(0,452):\n",
    "   temp = frq.query(f\"Ethnic == '{df.loc[idx, 'Ethnic']}' & Gene == '{df.loc[idx, 'Gene']}'\")\n",
    "   temp = temp.reset_index(drop=True)\n",
    "   length = len(temp)\n",
    "   for idx2 in range(0,length):\n",
    "      if df.loc[idx,'Star Allele 1'] == temp.loc[idx2, 'Allele']:\n",
    "         df.loc[idx, 'A1'] = temp.loc[idx2, 'Freq']\n",
    "      if df.loc[idx,'Star Allele 2'] == temp.loc[idx2, 'Allele']:\n",
    "         df.loc[idx, 'A2'] = temp.loc[idx2, 'Freq']\n",
    "      df.loc[idx,'E'] = 2 * (df.loc[idx,'A1'] * df.loc[idx,'A2'])/100\n",
    "         \n",
    "   if df.loc[idx,'Star Allele 1'] == df.loc[idx,'Star Allele 2']:\n",
    "      df.loc[idx,'E'] = df.loc[idx,'E'] / 2\n",
    " \n",
    "   if df.loc[idx, 'E'] < 0.1:\n",
    "      df.loc[idx,'X2'] = 0\n",
    "   else:\n",
    "      df.loc[idx, 'X2'] = (df.loc[idx,'E'] - df.loc[idx,'Percentage']) * (df.loc[idx,'E'] - df.loc[idx,'Percentage']) * 1.0 / df.loc[idx,'E']\n",
    "   \n",
    "df.to_excel('huhu.xlsx')\n",
    "print(df)"
   ]
  },
  {
   "cell_type": "code",
   "execution_count": 7,
   "metadata": {},
   "outputs": [],
   "source": [
    "columns = ['CEU', 'CHB', 'CHS', 'JPT', 'KHV206g', 'SAS', 'YRI']\n",
    "index = ['CYP2B6', 'CYP2C9', 'CYP2C19', 'CYP2D6', 'CYP3A5', 'CYP4F2']\n",
    "allele = pd.DataFrame(0, index=index, columns=columns)\n",
    "haplotypes = pd.DataFrame(0, index=index, columns=columns)\n",
    "p_value = pd.DataFrame(0, index=index, columns=columns)\n"
   ]
  },
  {
   "cell_type": "code",
   "execution_count": 8,
   "metadata": {},
   "outputs": [
    {
     "name": "stdout",
     "output_type": "stream",
     "text": [
      "         CEU  CHB  CHS  JPT  KHV206g  SAS  YRI\n",
      "CYP2B6     8    6    4    8        7   10    6\n",
      "CYP2C9     5    5    5    3        9    6    5\n",
      "CYP2C19    4    5    4    4        7    6    7\n",
      "CYP2D6    10    9    7    5       11   15   12\n",
      "CYP3A5     2    2    2    2        3    2    4\n",
      "CYP4F2     3    3    3    3        3    3    3\n",
      "         CEU  CHB  CHS  JPT  KHV206g  SAS  YRI\n",
      "CYP2B6    16    8    6    9       10   19   14\n",
      "CYP2C9     7    5    6    3       10   10    9\n",
      "CYP2C19    8    9    6    7       11   13   14\n",
      "CYP2D6    21   13   12    8       19   44   31\n",
      "CYP3A5     2    3    3    3        4    3    9\n",
      "CYP4F2     6    5    5    6        5    6    4\n",
      "              CEU       CHB       CHS       JPT   KHV206g       SAS       YRI\n",
      "CYP2B6   0.368825  0.719204  0.095432  0.285018  0.672066  0.998296  0.211403\n",
      "CYP2C9   0.018294  0.855679  0.111624  0.957169  0.496995  0.798621  0.349496\n",
      "CYP2C19  0.563308  0.061678  0.061024  0.581379  0.572447  0.913394  0.067239\n",
      "CYP2D6   0.001505  0.061130  0.066816  0.197458  0.087769  0.999946  0.003623\n",
      "CYP3A5   0.802581  0.350628  0.629409  0.163293  0.121325  0.644340  0.011577\n",
      "CYP4F2   0.594101  0.697178  0.749708  0.007298  0.553576  0.901198  0.000060\n"
     ]
    }
   ],
   "source": [
    "for x in range(0,7):\n",
    "    for y in range(0,6):\n",
    "        temp = df.query(f\"Ethnic == '{allele.columns[x]}' & Gene == '{allele.index[y]}'\")\n",
    "        haplotypes.iloc[y,x] = temp['Alleles'].nunique()\n",
    "        unique_alleles = set(temp[\"Star Allele 1\"]).union(temp[\"Star Allele 2\"])\n",
    "        allele.iloc[y,x] = len(unique_alleles)\n",
    "        sum_x2 = temp['X2'].sum()\n",
    "        if(haplotypes.iloc[y,x] > allele.iloc[y,x]):\n",
    "            p_value.iloc[y,x] = pchisq(sum_x2, haplotypes.iloc[y,x] - allele.iloc[y,x])\n",
    "        else:\n",
    "            p_value.iloc[y,x] = pchisq(sum_x2, 1)\n",
    "\n",
    "print(allele)\n",
    "print(haplotypes)\n",
    "print(p_value)"
   ]
  },
  {
   "cell_type": "code",
   "execution_count": 9,
   "metadata": {},
   "outputs": [
    {
     "name": "stdout",
     "output_type": "stream",
     "text": [
      "        PM IM NM RM ND\n",
      "CYP2B6   0  0  0  0  0\n",
      "CYP2C9   0  0  0  0  0\n",
      "CYP2C19  0  0  0  0  0\n",
      "CYP2D6   0  0  0  0  0\n",
      "CYP3A5   0  0  0  0  0\n",
      "CYP4F2   0  0  0  0  0\n"
     ]
    }
   ],
   "source": [
    "data = pd.read_excel(\"pheno.xlsx\")\n",
    "cols = ['PM','IM','NM','RM','ND']\n",
    "idx = ['CYP2B6','CYP2C9','CYP2C19','CYP2D6','CYP3A5','CYP4F2']\n",
    "pheno = pd.DataFrame(index=idx,columns=cols)\n",
    "pheno.iloc[:] = 0\n",
    "print(pheno)"
   ]
  },
  {
   "cell_type": "code",
   "execution_count": 10,
   "metadata": {},
   "outputs": [
    {
     "name": "stdout",
     "output_type": "stream",
     "text": [
      "             PM       IM       NM      RM      ND\n",
      "CYP2B6    7.282  36.4084  54.8584  0.4854  0.4854\n",
      "CYP2C9   0.9708   7.7666  91.2609     0.0     0.0\n",
      "CYP2C19  8.2523  39.3183  41.7508   7.767     0.0\n",
      "CYP2D6      0.0  41.2627  52.4224     0.0  0.9709\n",
      "CYP3A5    45.63    37.86    11.65     0.0  0.9709\n",
      "CYP4F2    3.398   23.297   71.363     0.0     0.0\n"
     ]
    }
   ],
   "source": [
    "for x in range(0,6):\n",
    "    for y in range(0,5):\n",
    "        temp = data.query(f\"Gene == '{idx[x]}' & Pheno == '{cols[y]}'\")\n",
    "        res = temp['Percentage'].sum()\n",
    "        pheno.iloc[x,y] = res\n",
    "\n",
    "print(pheno)"
   ]
  },
  {
   "cell_type": "code",
   "execution_count": 11,
   "metadata": {},
   "outputs": [
    {
     "name": "stdout",
     "output_type": "stream",
     "text": [
      "      Gene      PM       IM       NM      RM      ND\n",
      "0   CYP2B6   7.282  36.4084  54.8584  0.4854  0.4854\n",
      "1   CYP2C9  0.9708   7.7666  91.2609     0.0     0.0\n",
      "2  CYP2C19  8.2523  39.3183  41.7508   7.767     0.0\n",
      "3   CYP2D6     0.0  41.2627  52.4224     0.0  0.9709\n",
      "4   CYP3A5   45.63    37.86    11.65     0.0  0.9709\n",
      "5   CYP4F2   3.398   23.297   71.363     0.0     0.0\n"
     ]
    },
    {
     "data": {
      "text/plain": [
       "<Axes: title={'center': 'Stacked Bar Graph'}, ylabel='Gene'>"
      ]
     },
     "execution_count": 11,
     "metadata": {},
     "output_type": "execute_result"
    },
    {
     "data": {
      "image/png": "[encoded data removed]",
      "text/plain": [
       "<Figure size 640x480 with 1 Axes>"
      ]
     },
     "metadata": {},
     "output_type": "display_data"
    }
   ],
   "source": [
    "import matplotlib.pyplot as plt\n",
    "import numpy as np\n",
    "\n",
    "# data from https://allisonhorst.github.io/palmerpenguins/\n",
    "pheno = pheno.reset_index().rename(columns={'index': 'Gene'})\n",
    "print(pheno)\n",
    "pheno.plot(\n",
    "    x = 'Gene',\n",
    "    kind = 'barh',\n",
    "    stacked = True,\n",
    "    title = 'Stacked Bar Graph',\n",
    "    mark_right = True)"
   ]
  }
 ],
 "metadata": {
  "kernelspec": {
   "display_name": "Python 3",
   "language": "python",
   "name": "python3"
  },
  "language_info": {
   "codemirror_mode": {
    "name": "ipython",
    "version": 3
   },
   "file_extension": ".py",
   "mimetype": "text/x-python",
   "name": "python",
   "nbconvert_exporter": "python",
   "pygments_lexer": "ipython3",
   "version": "3.10.11"
  },
  "orig_nbformat": 4
 },
 "nbformat": 4,
 "nbformat_minor": 2
}
